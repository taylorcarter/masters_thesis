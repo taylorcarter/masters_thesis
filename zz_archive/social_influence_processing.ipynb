{
 "cells": [
  {
   "cell_type": "code",
   "execution_count": 1,
   "metadata": {},
   "outputs": [],
   "source": [
    "import pickle\n",
    "import numpy as np\n",
    "import sys\n",
    "import os\n",
    "import pandas as pd\n",
    "\n",
    "from matplotlib import pyplot as plt\n",
    "\n",
    "import glob\n",
    "\n",
    "sys.path.append('/Users/taylorcarter/Desktop/Observation.py')\n",
    "\n",
    "from Observation import Observation"
   ]
  },
  {
   "cell_type": "code",
   "execution_count": 2,
   "metadata": {},
   "outputs": [],
   "source": [
    "herd_hover_data_folder = '/Users/taylorcarter/Desktop' \n",
    "\n",
    "observation_files = glob.glob(\n",
    "    herd_hover_data_folder + \n",
    "    '/observation*-processed.pkl'\n",
    ")\n",
    "\n",
    "observation_files.sort()"
   ]
  },
  {
   "cell_type": "code",
   "execution_count": 3,
   "metadata": {},
   "outputs": [],
   "source": [
    "observations = []\n",
    "for file in observation_files[:]:\n",
    "    with open(file, 'rb') as f:\n",
    "        observation = pickle.load(f)\n",
    "        observations.append(observation)"
   ]
  },
  {
   "cell_type": "code",
   "execution_count": 4,
   "metadata": {},
   "outputs": [
    {
     "name": "stdout",
     "output_type": "stream",
     "text": [
      "0 observation015\n",
      "1 observation027\n"
     ]
    }
   ],
   "source": [
    "for ind, obs in enumerate(observations):\n",
    "    print(ind, obs.name)"
   ]
  },
  {
   "cell_type": "code",
   "execution_count": 5,
   "metadata": {},
   "outputs": [],
   "source": [
    "positions = [observation.positions for observation in observations]\n",
    "postures = [observation.postures for observation in observations]\n",
    "posture_scores = [observation.posture_scores for observation in observations]"
   ]
  },
  {
   "cell_type": "code",
   "execution_count": 6,
   "metadata": {},
   "outputs": [
    {
     "data": {
      "image/png": "[encoded data removed]",
      "text/plain": [
       "<Figure size 432x288 with 1 Axes>"
      ]
     },
     "metadata": {
      "needs_background": "light"
     },
     "output_type": "display_data"
    }
   ],
   "source": [
    "# Using tracks\n",
    "\n",
    "observation_index = 0\n",
    "track_num = 1\n",
    "plt.scatter(positions[observation_index][track_num][0:10, 0],\n",
    "            positions[observation_index][track_num][0:10, 1])\n",
    "plt.gca().set_aspect('equal', adjustable='box')"
   ]
  },
  {
   "cell_type": "code",
   "execution_count": 7,
   "metadata": {},
   "outputs": [],
   "source": [
    "def closest_ind(pts_act):\n",
    "    \"\"\"\n",
    "    Generates relative and actual x,y positions of closest individual relative to each individual within \n",
    "    a given 3d numpy array.\n",
    "    \n",
    "    Inputs:\n",
    "        pts_act: 3d numpy array with raw xy positions of animals in space with shape (individual, frame, 2)\n",
    "    Output:\n",
    "        coords_rel: 3d numpy array with x,y positions of animals in pts_act relative to the focal\n",
    "                    individual. Has same shape as current array in pts_act (individuals, frames, 2)\n",
    "        coords_act: 3d numpy array with x,y positions of animals in pts_act that coorespond to coords_rel\n",
    "                    Has same shape as current array in pts_act (individuals, frames, 2)\n",
    "    \n",
    "    \"\"\"\n",
    "    coords_rel = np.zeros(pts_act.shape)\n",
    "    coords_act = np.zeros(pts_act.shape)\n",
    "    \n",
    "    for indv in range(pts_act.shape[0]):\n",
    "        diff = pts_act - pts_act[indv]\n",
    "        dis = np.sqrt((diff[:,:,0])**2 + (diff[:,:,1])**2)\n",
    "\n",
    "        m = np.argmin(np.where(dis==0, dis.max(), dis), axis=0)\n",
    "\n",
    "        rel_loc = np.zeros(diff[0].shape)\n",
    "        act_loc = np.zeros(diff[0].shape)\n",
    "\n",
    "        for i in range(m.shape[0]):\n",
    "            rl = diff[m[i], i, :]\n",
    "            rel_loc[i,:] = rl\n",
    "\n",
    "            al = diff[m[i], i, :]\n",
    "            act_loc[i,:] = al\n",
    "\n",
    "        coords_rel[indv,:,:] = rel_loc\n",
    "        coords_act[indv,:,:] = act_loc\n",
    "            \n",
    "    return coords_rel, coords_act"
   ]
  },
  {
   "cell_type": "code",
   "execution_count": 8,
   "metadata": {},
   "outputs": [],
   "source": [
    "def sim_walk(pts_act):\n",
    "    \"\"\"\n",
    "    Generates x,y positions for every individual in a data set by pulling random values from calculated step \n",
    "    sizes and turning angles\n",
    "    \n",
    "    Inputs:\n",
    "        pts_act: 3d numpy array with raw xy positions of animals in space with shape (individual, frame, 2)\n",
    "    Ouputs:\n",
    "        walk: 3d numpy array with new xy positions of animals in pts_act\n",
    "        \n",
    "    \"\"\"\n",
    "    act_diff = np.diff(pts_act, axis=1)\n",
    "    step_size = np.sqrt((act_diff[:,:,0])**2 + (act_diff[:,:,1])**2)\n",
    "    act_dir = np.arctan2(act_diff[:,:,1], act_diff[:,:,0])\n",
    "    d_diff = np.diff(act_dir)\n",
    "    \n",
    "    coords = np.zeros(pts_act.shape)\n",
    "    \n",
    "    for ind in range(pts_act.shape[0]):\n",
    "        \n",
    "        random_step = np.random.choice(step_size[ind], len(pts_act[ind]))\n",
    "        random_turn = np.random.choice(d_diff[ind], len(pts_act[ind]))\n",
    " \n",
    "        x = random_step * (np.cos(random_turn))\n",
    "        y = random_step * (np.sin(random_turn))\n",
    "\n",
    "        coords[ind, :, 0] = x\n",
    "        coords[ind, :, 1] = y\n",
    "        coords[ind, 0] = coords[ind,0] + pts_act[ind,0]\n",
    "\n",
    "        walk = np.cumsum(coords, axis=1)\n",
    "    return walk"
   ]
  },
  {
   "cell_type": "code",
   "execution_count": 9,
   "metadata": {},
   "outputs": [],
   "source": [
    "def group_center(pts_act, number_ind=None, subset=False):\n",
    "    \"\"\"\n",
    "    Generates x,y positions for the center of the whole group or the center of k number of closest individuals\n",
    "    relative to each individual in the dataset\n",
    "    \n",
    "    Inputs:\n",
    "        pts_act: 3d numpy array with raw xy positions of animals in space with shape (individual, frame, 2)\n",
    "        subset: if True, finds center of k number of closest individuals (number_ind) relative to focal\n",
    "                individual\n",
    "        number_ind: int 2 or above. Designates number of closest individuals to consider\n",
    "    Output:\n",
    "        c_diff: 3d numpy array with x,y positions of the center of the group relative to every individual\n",
    "                in every frame. Has shape (individuals, frames, 2)\n",
    "        If subset==True:\n",
    "            c_diff: 3d numpy array with x,y positions of the center of the k number of closest individuals\n",
    "                    relative to focal individual. Has shape (individuals, frames, 2)\n",
    "            center: 3d numpy array with x,y positions of the center of the k number of closest individuals.\n",
    "                    Has shape (individuals, frames, 2)\n",
    "    \n",
    "    \"\"\"\n",
    "    center = np.zeros(pts_act.shape)\n",
    "    \n",
    "    if subset==True:\n",
    "        for ind in range(pts_act.shape[0]):\n",
    "            diff = pts_act - pts_act[ind]\n",
    "            dis = np.sqrt((diff[:,:,0])**2 + (diff[:,:,1])**2)\n",
    "            \n",
    "            sort = np.argsort(np.where(dis==0, dis.max(), dis), axis=0)\n",
    "            sort = sort[0:number_ind, :]\n",
    "            \n",
    "            if number_ind<2 or number_ind>=pts_act.shape[0]:\n",
    "                raise ValueError(\"ValueError: number of individuals needs to be between 2 and pts_act.shape[0]\" \n",
    "                                 + str(len(pts_act)-1))\n",
    "\n",
    "            act_loc = np.zeros((sort.shape[0], sort.shape[1]), 2)\n",
    "            \n",
    "            for i in range(sort.shape[0]):\n",
    "                for pt in range(sort.shape[1]):\n",
    "                    al = pts_act[sort[i, pt], pt]\n",
    "                    act_loc[i, pt ,:] = al\n",
    "        \n",
    "            center[ind, :, :] = np.nanmean(act_loc, axis=0)\n",
    "\n",
    "    else:\n",
    "        center[:,:,:] = np.nanmean(pts_act, axis=0)\n",
    "        \n",
    "    c_diff = center - pts_act\n",
    "    \n",
    "    return c_diff, center"
   ]
  },
  {
   "cell_type": "code",
   "execution_count": 10,
   "metadata": {},
   "outputs": [],
   "source": [
    "def gen_infl_points(pts_act, pts_inf_rel, w):\n",
    "    \"\"\"\n",
    "    Generates new xy positions of animals in pts_act that take into acount some degree of social influence (w)\n",
    "    \n",
    "    Inputs:\n",
    "        pts_act: 3d numpy array with raw xy positions of animals in space with shape (individual, frame, 2)\n",
    "        pts_inf: 3d numpy array with xy positions of social influencer relative \n",
    "                 to location of animals in pts_act with shape (individual, frame, 2)\n",
    "        w: weight of social influence (range: 0-1)\n",
    "    \n",
    "    Output:\n",
    "        coords: 3d numpy array with new xy positions of animals in pts_act that take into acount some \n",
    "                degree of social influence (w). Has shape (individual, frame - 1, 2)\n",
    "    \"\"\"\n",
    "    coords = np.zeros(pts_act[:,:-1].shape)\n",
    "\n",
    "    act_diff = np.diff(pts_act, axis=1)\n",
    "\n",
    "    step_size = np.sqrt((act_diff[:,:,0])**2 + (act_diff[:,:,1])**2)\n",
    "    \n",
    "    act_dir = np.arctan2(act_diff[:,:,1], act_diff[:,:,0])\n",
    "    inf_dir = np.arctan2(pts_inf_rel[:,:,1], pts_inf_rel[:,:,0])\n",
    "    inf_dir = inf_dir[:,:-1]\n",
    "\n",
    "    dir_diff = inf_dir - act_dir\n",
    "    dir_diff = np.where(dir_diff<-np.pi, (2*np.pi) + dir_diff , dir_diff)\n",
    "    dir_diff = np.where(dir_diff>np.pi, dir_diff - (2*np.pi), dir_diff)\n",
    "\n",
    "    x_inf = step_size * (np.cos(dir_diff*w + act_dir)) + pts_act[:,:-1,0]\n",
    "    y_inf = step_size * (np.sin(dir_diff*w + act_dir)) + pts_act[:,:-1,1]\n",
    "\n",
    "    coords[:, :, 0] = x_inf\n",
    "    coords[:, :, 1] = y_inf\n",
    "    \n",
    "    return coords"
   ]
  },
  {
   "cell_type": "code",
   "execution_count": 11,
   "metadata": {},
   "outputs": [],
   "source": [
    "def random_steps(pts_act, number_of_steps=5):\n",
    "    \"\"\"\n",
    "    Generates possible x,y positions for every individual at every step by pulling random values from \n",
    "    calculated step sizes and turning angles\n",
    "    \n",
    "    Inputs:\n",
    "        pts_act: 3d numpy array with raw xy positions of animals in space with shape (individual, frame, 2)\n",
    "    Ouputs:\n",
    "        coords_list: list of 3d numpy arrays with new xy positions of animals in pts_act. coords_list[0] = xy coordinates\n",
    "                     of an alternative step for each individual\n",
    "        \n",
    "    \"\"\"\n",
    "    act_diff = np.diff(pts_act, axis=1)\n",
    "    step_size = np.sqrt((act_diff[:,:,0])**2 + (act_diff[:,:,1])**2)\n",
    "    \n",
    "    act_dir = np.arctan2(act_diff[:,:,1], act_diff[:,:,0])\n",
    "    d_diff = np.diff(act_dir)\n",
    "    \n",
    "    coords_list = []\n",
    "    for number in range(number_of_steps):\n",
    "\n",
    "        coords = np.zeros(pts_act.shape)\n",
    "        for ind in range(pts_act.shape[0]):\n",
    "            \n",
    "            ss_dropnan = step_size[ind][~np.isnan(step_size[ind])]\n",
    "            d_diff_dropnan = d_diff[ind][~np.isnan(d_diff[ind])]\n",
    "            \n",
    "            #Once the NaNs are dropped some ind have empty ss_dropnan and d_diff_dropnan. Inds that have this issue have been\n",
    "            #tagged in time_adj and will be dropped from dataset later, but in order to preserve labeling they need to stay until the final dataframe is made.\n",
    "            #Thus any ind with this issue will use lst\n",
    "            if len(d_diff_dropnan)==0:\n",
    "                lst = [0]\n",
    "                random_step = np.random.choice(lst, pts_act[ind].shape[0])\n",
    "                random_turn = np.random.choice(lst, pts_act[ind].shape[0])\n",
    "            else:\n",
    "                random_step = np.random.choice(ss_dropnan, pts_act[ind].shape[0])\n",
    "                random_turn = np.random.choice(d_diff_dropnan, pts_act[ind].shape[0])\n",
    "\n",
    "            x = random_step * (np.cos(random_turn)) + pts_act[ind,:,0]\n",
    "            y = random_step * (np.sin(random_turn)) + pts_act[ind,:,1]\n",
    "\n",
    "            coords[ind, :, 0] = x\n",
    "            coords[ind, :, 1] = y\n",
    "            \n",
    "        coords_list.append(coords)\n",
    "    \n",
    "    return coords_list"
   ]
  },
  {
   "cell_type": "code",
   "execution_count": 12,
   "metadata": {},
   "outputs": [],
   "source": [
    "def dir_change(pts_inf, pts_act, random_step=None, rand_step=False):\n",
    "    \"\"\"\n",
    "    Finds the change in direction between the vector pointing from pts_act to pts_inf and \n",
    "    the vector pointing from pts_act to pts_act\n",
    "    \n",
    "    Inputs:\n",
    "        pts_inf: 3d numpy array with xy positions of social influencers i.e. the center of the group, the \n",
    "                 closest individual, the center of a subset of individuals, etc. Has shape (individual, frame, 2)\n",
    "        pts_act: 3d numpy array with raw xy positions of animals in space with shape (individual, frame, 2)\n",
    "        \n",
    "        If rand_step==True:\n",
    "            calulate the change in direction direction between the vector pointing from pts_act to pts_inf and \n",
    "            the vector pointing from pts_act to random_steps\n",
    "            random_step: 3d numpy array with new xy positions of animals in pts_act\n",
    "        \n",
    "    Ouputs:\n",
    "        dir_diff: 3d numpy array with the direction between the vector pointing from pts_act to pts_inf and \n",
    "                  the vector pointing from either pts_act to pts_act or pts_act to random_step. \n",
    "                  Has shape (individual, frame)\n",
    "    \"\"\"\n",
    "    #direction of vector from pts_act to pts_inf\n",
    "    loc_rel = pts_inf - pts_act\n",
    "    inf_dir = np.arctan2(loc_rel[:,:,1], loc_rel[:,:,0])\n",
    "    \n",
    "    if rand_step==True:\n",
    "        #direction of vector from pts_act to random_steps\n",
    "        loc_rel = random_step - pts_act\n",
    "        direct = np.arctan2(loc_rel[:,:,1], loc_rel[:,:,0])\n",
    "        direct = direct[:,:-1]\n",
    "        \n",
    "    else:\n",
    "        #direction of vector from pts_act to pts_act\n",
    "        act_diff = np.diff(pts_act, axis=1) #loose frame here, correct in inf_dir and direct when rand_step==True\n",
    "        direct = np.arctan2(act_diff[:,:,1], act_diff[:,:,0])\n",
    "   \n",
    "    dir_diff = inf_dir[:,:-1] - direct\n",
    "    dir_diff = np.where(dir_diff < -np.pi, (2*np.pi) + dir_diff , dir_diff)\n",
    "    dir_diff = np.where(dir_diff > np.pi, dir_diff - (2*np.pi), dir_diff)\n",
    "    \n",
    "    return dir_diff"
   ]
  },
  {
   "cell_type": "code",
   "execution_count": 19,
   "metadata": {},
   "outputs": [],
   "source": [
    "def mclogit_df(alt_l, chosen):\n",
    "    \"\"\" \n",
    "    Creates a pandas dataframe in the correct format for the R function 'mclogit' for population level analysis\n",
    "    \n",
    "    Inputs:\n",
    "        alt_l: list consisting of 2d numpy arrays. len(list) = number of alternative steps generated\n",
    "        chosen: 2d numpy array\n",
    "    Ouputs:\n",
    "        df: a pandas df with columns 'individual', feature', 'label', and 'frame'\n",
    "    \n",
    "    \"\"\"\n",
    "    \n",
    "    #create dataframe containing chosen step data for all individuals\n",
    "    #create individual col and frame col\n",
    "    chosen_fid = np.zeros(chosen.shape)\n",
    "    chosen_id = np.zeros(chosen.shape)\n",
    "\n",
    "    for i in range(chosen_fid.shape[1]):\n",
    "        chosen_fid[:,i] = chosen_fid[:,i] + i\n",
    "    \n",
    "    for i in range(chosen_fid.shape[0]):\n",
    "        chosen_id[i] = chosen_id[i] + i\n",
    "        \n",
    "    chosen_fid_c = np.concatenate((chosen_fid), axis=0)\n",
    "    chosen_id_c = np.concatenate((chosen_id), axis=0)\n",
    "    \n",
    "    #create chosen col\n",
    "    chosen_c = np.concatenate((chosen), axis=0)\n",
    "    \n",
    "    d1 = {'individual': chosen_id_c, 'feature': chosen_c, 'label': np.ones(chosen_c.shape), 'frame': chosen_fid_c}\n",
    "    df1 = pd.DataFrame(data=d1)\n",
    "    \n",
    "    #create dataframe containing alternative step data for all individuals\n",
    "    #create individual col and frame col\n",
    "    \n",
    "    fid = []\n",
    "    ind_id = []\n",
    "\n",
    "    for l in range(len(alt_l)):\n",
    "        array_fid = np.zeros(alt_l[0].shape)\n",
    "        array_id = np.zeros(alt_l[0].shape)\n",
    "        \n",
    "        for i in range(array_fid.shape[1]):\n",
    "            array_fid[:,i] = array_fid[:,i] + i\n",
    "\n",
    "        for i in range(len(array_id)):\n",
    "            array_id[i] = array_id[i] + i\n",
    "\n",
    "        fid.append(array_fid)\n",
    "        ind_id.append(array_id)\n",
    "    \n",
    "    alt_fid_c = np.concatenate(np.concatenate(fid, axis=1))\n",
    "    alt_id_c = np.concatenate(np.concatenate(ind_id, axis=1))\n",
    "    \n",
    "    #create feature col\n",
    "    alt_l_c = np.concatenate(np.concatenate(alt_l, axis=1))\n",
    "    \n",
    "    d2 = {'individual': alt_id_c, 'feature': alt_l_c, 'label': np.zeros(alt_fid_c.shape), 'frame': alt_fid_c}\n",
    "    df2 = pd.DataFrame(data=d2)\n",
    "  \n",
    "    #combine chosen and alternative dataframes together\n",
    "    df = np.abs(pd.concat([df1, df2]))\n",
    "\n",
    "    return df"
   ]
  },
  {
   "cell_type": "code",
   "execution_count": 141,
   "metadata": {},
   "outputs": [],
   "source": [
    "def mult_feat_df(alt_fl, chosen_fl):\n",
    "    \"\"\" \n",
    "    Creates a pandas dataframe in the correct format for the R function 'mclogit' for population level analysis with multiple features\n",
    "    \n",
    "    Inputs:\n",
    "        alt_fl: a list of lists consisting of 2d numpy arrays. len(alt_fl) = number of features. len(alt_fl[0]) = number of alternative steps generated\n",
    "        chosen_fl: list consisting of 2d numpy arrays. len(list) = number of features\n",
    "    Ouputs:\n",
    "        df: a pandas df with columns 'individual', 'feature' * n, 'label', and 'frame'\n",
    "    \n",
    "    \"\"\"\n",
    "    \n",
    "    #create dataframe containing chosen step data for all individuals\n",
    "    #create individual col and frame col\n",
    "    chosen_fid = np.zeros(chosen_fl[0].shape)\n",
    "    chosen_id = np.zeros(chosen_fl[0].shape)\n",
    "\n",
    "    for i in range(chosen_fid.shape[1]):\n",
    "        chosen_fid[:,i] = chosen_fid[:,i] + i\n",
    "    \n",
    "    for i in range(chosen_id.shape[0]):\n",
    "        chosen_id[i] = chosen_id[i] + i\n",
    "        \n",
    "    chosen_fid_c = np.concatenate((chosen_fid), axis=0)\n",
    "    chosen_id_c = np.concatenate((chosen_id), axis=0)\n",
    "    \n",
    "    d1 = {'individual': chosen_id_c, 'label': np.ones(chosen_id_c.shape), 'frame': chosen_fid_c}\n",
    "    df1 = pd.DataFrame(data=d1)\n",
    "    \n",
    "    #create feature columns\n",
    "    for feat in range(len(chosen_fl)):\n",
    "        chosen_c = np.concatenate((chosen_fl[feat]), axis=0)\n",
    "        df1.insert(feat+1, 'feature' + str(feat), chosen_c, True)\n",
    "    \n",
    "    \n",
    "    #create dataframe containing alternative step data for all individuals\n",
    "    fid = []\n",
    "    ind_id = []\n",
    "    \n",
    "    #create individual col and frame col\n",
    "    for l in range(len(alt_fl[0])):\n",
    "        array_fid = np.zeros(alt_fl[0][0].shape)\n",
    "        array_id = np.zeros(alt_fl[0][0].shape)\n",
    "\n",
    "        for i in range(array_fid.shape[1]):\n",
    "            array_fid[:,i] = array_fid[:,i] + i\n",
    "\n",
    "        for i in range(len(array_id)):\n",
    "            array_id[i] = array_id[i] + i\n",
    "\n",
    "        fid.append(array_fid)\n",
    "        ind_id.append(array_id)\n",
    "\n",
    "    alt_fid_c = np.concatenate(np.concatenate(fid, axis=1))\n",
    "    alt_id_c = np.concatenate(np.concatenate(ind_id, axis=1))\n",
    "    \n",
    "    \n",
    "    #create feature columns\n",
    " \n",
    "    d2 = {'individual': alt_id_c, 'label': np.zeros(alt_fid_c.shape), 'frame': alt_fid_c}\n",
    "    df2 = pd.DataFrame(data=d2)\n",
    "    \n",
    "    for feat in range(len(alt_fl)):\n",
    "        alt_fl_c = np.concatenate(np.concatenate(alt_fl[feat], axis=1))\n",
    "        df2.insert(feat+1, 'feature' + str(feat), alt_fl_c, False)\n",
    "        \n",
    "    #combine chosen and alternative dataframes together\n",
    "    df = np.abs(pd.concat([df1, df2])) #row combine\n",
    "\n",
    "    return df"
   ]
  },
  {
   "cell_type": "code",
   "execution_count": 15,
   "metadata": {},
   "outputs": [],
   "source": [
    "def ts_adjust(array, time):\n",
    "    \"\"\"\n",
    "    Adjusts time scale for raw data\n",
    "    \n",
    "    Input:\n",
    "        array: 3D numpy array containing original xy positions observed in the field\n",
    "        time: int used to adjust timescale of data (30 frames = 1sec)\n",
    "    Output:\n",
    "        time_adjust: 3D numpy array\n",
    "    \n",
    "    \"\"\"\n",
    "    if time>array.shape[1]:\n",
    "        raise ValueError('time exceeds length of video')\n",
    "    elif array.shape[1]//time<2:\n",
    "        raise ValueError('not enough points in selected time series to calculate change in direction')\n",
    "    \n",
    "    #should it be mean or should it be every 30th or 1800th frame\n",
    "#     mean_lst = []\n",
    "    pulled_vl = []\n",
    "    for t in range(array.shape[1]//time):\n",
    "        array_subset = array[:,(t*time):time*(t+1),:]\n",
    "        if t == 0:\n",
    "            pulled_values0 = array_subset[:,0,:].reshape(array.shape[0],1,2)\n",
    "            pulled_values1 = array_subset[:,-1,:].reshape(array.shape[0],1,2)\n",
    "            pulled_values = np.concatenate((pulled_values0, pulled_values1), axis=1)\n",
    "        else:\n",
    "            pulled_values = array_subset[:,-1,:].reshape(array.shape[0],1,2)\n",
    "    #         mean = np.nanmean(array_subset, axis=1, keepdims=True)\n",
    "    #         mean_lst.append(mean)\n",
    "        pulled_vl.append(pulled_values)\n",
    "#     adjust = np.concatenate(mean_lst, axis=1)\n",
    "    adjust = np.concatenate(pulled_vl, axis=1)\n",
    "    \n",
    "    #check to see if there is sufficient data for each individual; if no, keep track of those ind, will need this to drop them later\n",
    "    drop_lst = []\n",
    "    for cnt in range(adjust.shape[0]):\n",
    "        count = np.count_nonzero(~np.isnan(adjust[cnt]))//2\n",
    "        if count<3:\n",
    "            drop_lst.append(cnt)\n",
    "    \n",
    "    return adjust, drop_lst"
   ]
  },
  {
   "cell_type": "code",
   "execution_count": 64,
   "metadata": {},
   "outputs": [],
   "source": [
    "def ind_dfs(df, num_ind):\n",
    "    \"\"\"\n",
    "    Creates a list of pandas dataframes in the correct format for the R function 'mclogit'. Dataframes are for each individual\n",
    "    \n",
    "    Inputs:\n",
    "        pop_df: pandas dataframe containing all individuals. Formatted for mclogit\n",
    "        num_ind: int equal to the number of individuals\n",
    "        \n",
    "    Ouputs:\n",
    "        ind_dfl: a list of pandas dataframes\n",
    "    \n",
    "    \"\"\"\n",
    "    group = df.groupby('individual')\n",
    "    \n",
    "    ind_dfl = []\n",
    "    for i in range(num_ind):\n",
    "        ind_df = group.get_group(i)\n",
    "        drop_nan_df = ind_df.dropna()\n",
    "        ind_dfl.append(drop_nan_df)\n",
    "    \n",
    "    return ind_dfl"
   ]
  },
  {
   "cell_type": "code",
   "execution_count": 171,
   "metadata": {},
   "outputs": [],
   "source": [
    "array = np.random.randint(15, size=(4, 24, 2))"
   ]
  },
  {
   "cell_type": "markdown",
   "metadata": {},
   "source": [
    "### Workflow test on dummy data\n",
    "    - Generate feature data for mclogit\n",
    "    - Load output from mclogit and store in data frame\n",
    "    - Plot data"
   ]
  },
  {
   "cell_type": "markdown",
   "metadata": {},
   "source": [
    "#### 1 - Generate feature data for mclogit"
   ]
  },
  {
   "cell_type": "code",
   "execution_count": 153,
   "metadata": {},
   "outputs": [],
   "source": [
    "#did for multiple times (3 and 6) but individually\n",
    "t = 4\n",
    "# t = 6\n",
    "\n",
    "#alter data time scale \n",
    "time_adj, drop_lst = ts_adjust(array, t)\n",
    "\n",
    "#generate change in direction from pt of influence for chosen and alternative steps\n",
    "_, act_center = group_center(time_adj)\n",
    "raw_dc = dir_change(act_center, time_adj)\n",
    "rsl = random_steps(time_adj)\n",
    "\n",
    "rand_dcl = []\n",
    "for i in range(len(rsl)):\n",
    "    rand_dc = dir_change(act_center, time_adj, rsl[i], rand_step=True)\n",
    "    rand_dcl.append(rand_dc)\n",
    "    \n",
    "#create data frames for mclogit\n",
    "population_df = mclogit_df(rand_dcl, raw_dc)\n",
    "ind_dfl = ind_dfs(population_df, time_adj.shape[0])\n",
    "\n",
    "#save the data frames as csv files\n",
    "for i in range (len(ind_dfl)):\n",
    "    ind_dfl[i].to_csv(r'/Users/taylorcarter/Desktop/test_ind' + str(i) + \n",
    "                                     'df_t' + str(t) + '.csv', index = False, header=True)\n",
    "\n",
    "#drop individuals with 'bad data'\n",
    "for ind in drop_lst:\n",
    "    os.remove('test_ind' + str(ind) + 'df_t' + str(t) + '.csv')\n",
    "\n",
    "\n",
    "#drop 'bad data' from population df\n",
    "drop_lst1 = list.copy(drop_lst)\n",
    "for ind in range(len(drop_lst1)):\n",
    "    if drop_lst1[ind] >= drop_lst1[1]:\n",
    "        drop_lst1[ind] = drop_lst1[ind] - ind\n",
    "\n",
    "    del ind_dfl[drop_lst1[ind]]\n",
    "new_popdf = pd.concat(ind_dfl)\n",
    "\n",
    "new_popdf.to_csv(r'/Users/taylorcarter/Desktop/test_population_df_t' + \n",
    "                     str(t) + '.csv', index = False, header=True)"
   ]
  },
  {
   "cell_type": "code",
   "execution_count": 159,
   "metadata": {},
   "outputs": [],
   "source": [
    "rand_dcl1 = []\n",
    "for s in range(len(rand_dcl)):\n",
    "    rand_array = np.random.randint(15, size=(raw_dc.shape))\n",
    "    rand_dcl1.append(rand_array)"
   ]
  },
  {
   "cell_type": "code",
   "execution_count": 160,
   "metadata": {},
   "outputs": [],
   "source": [
    "raw_dc1 = np.random.randint(15, size=(raw_dc.shape))"
   ]
  },
  {
   "cell_type": "code",
   "execution_count": 161,
   "metadata": {},
   "outputs": [],
   "source": [
    "lst1 = [raw_dc, raw_dc1]\n",
    "lst2 = [rand_dcl, rand_dcl1]"
   ]
  },
  {
   "cell_type": "code",
   "execution_count": 162,
   "metadata": {},
   "outputs": [],
   "source": [
    "t = 4\n",
    "mfdf = mult_feat_df(lst2, lst1)\n",
    "ind_mfdf = ind_dfs(mfdf, time_adj.shape[0])\n",
    "# ind_mfdf\n",
    "mfdf.to_csv(r'/Users/taylorcarter/Desktop/mfdf_test_pop_t' + str(t) + '.csv', index = False, header=True)\n",
    "for i in range (len(ind_mfdf)):\n",
    "    ind_mfdf[i].to_csv(r'/Users/taylorcarter/Desktop/mfdf_test_ind' + str(i) + \n",
    "                                     'df_t' + str(t) + '.csv', index = False, header=True)"
   ]
  },
  {
   "cell_type": "code",
   "execution_count": 163,
   "metadata": {},
   "outputs": [
    {
     "data": {
      "text/html": [
       "<div>\n",
       "<style scoped>\n",
       "    .dataframe tbody tr th:only-of-type {\n",
       "        vertical-align: middle;\n",
       "    }\n",
       "\n",
       "    .dataframe tbody tr th {\n",
       "        vertical-align: top;\n",
       "    }\n",
       "\n",
       "    .dataframe thead th {\n",
       "        text-align: right;\n",
       "    }\n",
       "</style>\n",
       "<table border=\"1\" class=\"dataframe\">\n",
       "  <thead>\n",
       "    <tr style=\"text-align: right;\">\n",
       "      <th></th>\n",
       "      <th>individual</th>\n",
       "      <th>feature0</th>\n",
       "      <th>feature1</th>\n",
       "      <th>label</th>\n",
       "      <th>frame</th>\n",
       "    </tr>\n",
       "  </thead>\n",
       "  <tbody>\n",
       "    <tr>\n",
       "      <th>0</th>\n",
       "      <td>0.0</td>\n",
       "      <td>1.343997</td>\n",
       "      <td>6.0</td>\n",
       "      <td>1.0</td>\n",
       "      <td>0.0</td>\n",
       "    </tr>\n",
       "    <tr>\n",
       "      <th>1</th>\n",
       "      <td>0.0</td>\n",
       "      <td>1.797595</td>\n",
       "      <td>12.0</td>\n",
       "      <td>1.0</td>\n",
       "      <td>1.0</td>\n",
       "    </tr>\n",
       "    <tr>\n",
       "      <th>2</th>\n",
       "      <td>0.0</td>\n",
       "      <td>0.708626</td>\n",
       "      <td>2.0</td>\n",
       "      <td>1.0</td>\n",
       "      <td>2.0</td>\n",
       "    </tr>\n",
       "    <tr>\n",
       "      <th>3</th>\n",
       "      <td>0.0</td>\n",
       "      <td>0.429762</td>\n",
       "      <td>3.0</td>\n",
       "      <td>1.0</td>\n",
       "      <td>3.0</td>\n",
       "    </tr>\n",
       "    <tr>\n",
       "      <th>4</th>\n",
       "      <td>0.0</td>\n",
       "      <td>2.025897</td>\n",
       "      <td>2.0</td>\n",
       "      <td>1.0</td>\n",
       "      <td>4.0</td>\n",
       "    </tr>\n",
       "    <tr>\n",
       "      <th>...</th>\n",
       "      <td>...</td>\n",
       "      <td>...</td>\n",
       "      <td>...</td>\n",
       "      <td>...</td>\n",
       "      <td>...</td>\n",
       "    </tr>\n",
       "    <tr>\n",
       "      <th>115</th>\n",
       "      <td>3.0</td>\n",
       "      <td>2.695487</td>\n",
       "      <td>7.0</td>\n",
       "      <td>0.0</td>\n",
       "      <td>1.0</td>\n",
       "    </tr>\n",
       "    <tr>\n",
       "      <th>116</th>\n",
       "      <td>3.0</td>\n",
       "      <td>2.356194</td>\n",
       "      <td>1.0</td>\n",
       "      <td>0.0</td>\n",
       "      <td>2.0</td>\n",
       "    </tr>\n",
       "    <tr>\n",
       "      <th>117</th>\n",
       "      <td>3.0</td>\n",
       "      <td>1.471128</td>\n",
       "      <td>5.0</td>\n",
       "      <td>0.0</td>\n",
       "      <td>3.0</td>\n",
       "    </tr>\n",
       "    <tr>\n",
       "      <th>118</th>\n",
       "      <td>3.0</td>\n",
       "      <td>1.570796</td>\n",
       "      <td>12.0</td>\n",
       "      <td>0.0</td>\n",
       "      <td>4.0</td>\n",
       "    </tr>\n",
       "    <tr>\n",
       "      <th>119</th>\n",
       "      <td>3.0</td>\n",
       "      <td>1.570796</td>\n",
       "      <td>1.0</td>\n",
       "      <td>0.0</td>\n",
       "      <td>5.0</td>\n",
       "    </tr>\n",
       "  </tbody>\n",
       "</table>\n",
       "<p>144 rows × 5 columns</p>\n",
       "</div>"
      ],
      "text/plain": [
       "     individual  feature0  feature1  label  frame\n",
       "0           0.0  1.343997       6.0    1.0    0.0\n",
       "1           0.0  1.797595      12.0    1.0    1.0\n",
       "2           0.0  0.708626       2.0    1.0    2.0\n",
       "3           0.0  0.429762       3.0    1.0    3.0\n",
       "4           0.0  2.025897       2.0    1.0    4.0\n",
       "..          ...       ...       ...    ...    ...\n",
       "115         3.0  2.695487       7.0    0.0    1.0\n",
       "116         3.0  2.356194       1.0    0.0    2.0\n",
       "117         3.0  1.471128       5.0    0.0    3.0\n",
       "118         3.0  1.570796      12.0    0.0    4.0\n",
       "119         3.0  1.570796       1.0    0.0    5.0\n",
       "\n",
       "[144 rows x 5 columns]"
      ]
     },
     "execution_count": 163,
     "metadata": {},
     "output_type": "execute_result"
    }
   ],
   "source": [
    "mfdf"
   ]
  },
  {
   "cell_type": "code",
   "execution_count": 164,
   "metadata": {},
   "outputs": [],
   "source": [
    "times = [4]\n",
    "filename = 'mfdf_test'\n",
    "df = beta_df(array, times, drop_lstl, filename)"
   ]
  },
  {
   "cell_type": "code",
   "execution_count": 165,
   "metadata": {},
   "outputs": [
    {
     "data": {
      "text/html": [
       "<div>\n",
       "<style scoped>\n",
       "    .dataframe tbody tr th:only-of-type {\n",
       "        vertical-align: middle;\n",
       "    }\n",
       "\n",
       "    .dataframe tbody tr th {\n",
       "        vertical-align: top;\n",
       "    }\n",
       "\n",
       "    .dataframe thead th {\n",
       "        text-align: right;\n",
       "    }\n",
       "</style>\n",
       "<table border=\"1\" class=\"dataframe\">\n",
       "  <thead>\n",
       "    <tr style=\"text-align: right;\">\n",
       "      <th></th>\n",
       "      <th>individual</th>\n",
       "      <th>beta1</th>\n",
       "      <th>beta2</th>\n",
       "      <th>timescale</th>\n",
       "    </tr>\n",
       "  </thead>\n",
       "  <tbody>\n",
       "    <tr>\n",
       "      <th>0</th>\n",
       "      <td>0.0</td>\n",
       "      <td>-0.168316</td>\n",
       "      <td>-0.257627</td>\n",
       "      <td>4.0</td>\n",
       "    </tr>\n",
       "    <tr>\n",
       "      <th>1</th>\n",
       "      <td>1.0</td>\n",
       "      <td>-0.572805</td>\n",
       "      <td>-0.025812</td>\n",
       "      <td>4.0</td>\n",
       "    </tr>\n",
       "    <tr>\n",
       "      <th>2</th>\n",
       "      <td>2.0</td>\n",
       "      <td>-0.711634</td>\n",
       "      <td>0.062160</td>\n",
       "      <td>4.0</td>\n",
       "    </tr>\n",
       "    <tr>\n",
       "      <th>3</th>\n",
       "      <td>3.0</td>\n",
       "      <td>-1.557221</td>\n",
       "      <td>0.012537</td>\n",
       "      <td>4.0</td>\n",
       "    </tr>\n",
       "    <tr>\n",
       "      <th>4</th>\n",
       "      <td>4.0</td>\n",
       "      <td>-0.641309</td>\n",
       "      <td>-0.031537</td>\n",
       "      <td>4.0</td>\n",
       "    </tr>\n",
       "  </tbody>\n",
       "</table>\n",
       "</div>"
      ],
      "text/plain": [
       "   individual     beta1     beta2  timescale\n",
       "0         0.0 -0.168316 -0.257627        4.0\n",
       "1         1.0 -0.572805 -0.025812        4.0\n",
       "2         2.0 -0.711634  0.062160        4.0\n",
       "3         3.0 -1.557221  0.012537        4.0\n",
       "4         4.0 -0.641309 -0.031537        4.0"
      ]
     },
     "execution_count": 165,
     "metadata": {},
     "output_type": "execute_result"
    }
   ],
   "source": [
    "df"
   ]
  },
  {
   "cell_type": "markdown",
   "metadata": {},
   "source": [
    "#### 2 - Create ordered dataframe to put through mclogit\n",
    "    - First half of individuals:\n",
    "        - true values: small\n",
    "        - false values: large\n",
    "    - Second half of individuals:\n",
    "        - true values: large\n",
    "        - false values: small"
   ]
  },
  {
   "cell_type": "code",
   "execution_count": 23,
   "metadata": {},
   "outputs": [],
   "source": [
    "test_popdf = new_popdf.set_axis(np.arange(new_popdf.shape[0]), axis='index')\n",
    "test = test_popdf.groupby(['label','frame'])"
   ]
  },
  {
   "cell_type": "code",
   "execution_count": 24,
   "metadata": {},
   "outputs": [],
   "source": [
    "for label in range(2):\n",
    "    for frame in range(raw_dc.shape[1]):\n",
    "        if label==0:\n",
    "            test1 = test.get_group((label, frame))\n",
    "            lst = test1.index\n",
    "            test_popdf.loc[lst[0:len(lst)//2],'feature'] = 100\n",
    "            test_popdf.loc[lst[len(lst)//2:],'feature'] = 10\n",
    "            \n",
    "        elif label==1:\n",
    "            test1 = test.get_group((label, frame))\n",
    "            lst = test1.index\n",
    "            test_popdf.loc[lst[0:len(lst)//2],'feature'] = 10\n",
    "            test_popdf.loc[lst[len(lst)//2:],'feature'] = 100\n"
   ]
  },
  {
   "cell_type": "code",
   "execution_count": 25,
   "metadata": {},
   "outputs": [],
   "source": [
    "t = 4\n",
    "\n",
    "ind_dfl = ind_dfs(test_popdf, time_adj)\n",
    "\n",
    "#save the data frames as csv files\n",
    "for i in range (len(ind_dfl)):\n",
    "    ind_dfl[i].to_csv(r'/Users/taylorcarter/Desktop/ordered_ind' + str(i) + \n",
    "                                     'df_t' + str(t) + '.csv', index = False, header=True)\n",
    "test_popdf.to_csv(r'/Users/taylorcarter/Desktop/ordered_population_df_t' + \n",
    "                     str(t) + '.csv', index = False, header=True)"
   ]
  },
  {
   "cell_type": "markdown",
   "metadata": {},
   "source": [
    "#### 3 - Load output from mclogit and store in data frame"
   ]
  },
  {
   "cell_type": "code",
   "execution_count": 26,
   "metadata": {},
   "outputs": [
    {
     "data": {
      "text/html": [
       "<div>\n",
       "<style scoped>\n",
       "    .dataframe tbody tr th:only-of-type {\n",
       "        vertical-align: middle;\n",
       "    }\n",
       "\n",
       "    .dataframe tbody tr th {\n",
       "        vertical-align: top;\n",
       "    }\n",
       "\n",
       "    .dataframe thead th {\n",
       "        text-align: right;\n",
       "    }\n",
       "</style>\n",
       "<table border=\"1\" class=\"dataframe\">\n",
       "  <thead>\n",
       "    <tr style=\"text-align: right;\">\n",
       "      <th></th>\n",
       "      <th>beta</th>\n",
       "    </tr>\n",
       "  </thead>\n",
       "  <tbody>\n",
       "    <tr>\n",
       "      <th>0</th>\n",
       "      <td>-2.882241e-01</td>\n",
       "    </tr>\n",
       "    <tr>\n",
       "      <th>1</th>\n",
       "      <td>-2.882241e-01</td>\n",
       "    </tr>\n",
       "    <tr>\n",
       "      <th>2</th>\n",
       "      <td>2.882241e-01</td>\n",
       "    </tr>\n",
       "    <tr>\n",
       "      <th>3</th>\n",
       "      <td>2.882241e-01</td>\n",
       "    </tr>\n",
       "    <tr>\n",
       "      <th>4</th>\n",
       "      <td>-1.549693e-18</td>\n",
       "    </tr>\n",
       "  </tbody>\n",
       "</table>\n",
       "</div>"
      ],
      "text/plain": [
       "           beta\n",
       "0 -2.882241e-01\n",
       "1 -2.882241e-01\n",
       "2  2.882241e-01\n",
       "3  2.882241e-01\n",
       "4 -1.549693e-18"
      ]
     },
     "execution_count": 26,
     "metadata": {},
     "output_type": "execute_result"
    }
   ],
   "source": [
    "data = pd.read_csv(\"ordered_output.csv\")\n",
    "data"
   ]
  },
  {
   "cell_type": "code",
   "execution_count": 27,
   "metadata": {},
   "outputs": [],
   "source": [
    "#create 'individual' and 'timescale' column\n",
    "time = [12]\n",
    "\n",
    "ind_id = np.zeros((len(time), array.shape[0]+1))\n",
    "t_id = np.zeros((len(time), array.shape[0]+1))\n",
    "\n",
    "for i in range(ind_id.shape[1]):\n",
    "    ind_id[:,i] = ind_id[:,i] + i\n",
    "#     ind_id[:,-1] = -1 #bad when plotting\n",
    "\n",
    "for i in range(t_id.shape[0]):\n",
    "    t_id[i] = t_id[i] + time[i]\n",
    "\n",
    "#drop individual with 'bad data'\n",
    "ind_id = np.delete(ind_id, drop_lst, axis=1)\n",
    "t_id = np.delete(t_id, drop_lst, axis=1)\n",
    "\n",
    "ind_id = np.concatenate((ind_id), axis=0)\n",
    "t_id = np.concatenate((t_id), axis=0)"
   ]
  },
  {
   "cell_type": "code",
   "execution_count": 28,
   "metadata": {},
   "outputs": [
    {
     "data": {
      "text/html": [
       "<div>\n",
       "<style scoped>\n",
       "    .dataframe tbody tr th:only-of-type {\n",
       "        vertical-align: middle;\n",
       "    }\n",
       "\n",
       "    .dataframe tbody tr th {\n",
       "        vertical-align: top;\n",
       "    }\n",
       "\n",
       "    .dataframe thead th {\n",
       "        text-align: right;\n",
       "    }\n",
       "</style>\n",
       "<table border=\"1\" class=\"dataframe\">\n",
       "  <thead>\n",
       "    <tr style=\"text-align: right;\">\n",
       "      <th></th>\n",
       "      <th>individual</th>\n",
       "      <th>beta</th>\n",
       "      <th>timescale</th>\n",
       "    </tr>\n",
       "  </thead>\n",
       "  <tbody>\n",
       "    <tr>\n",
       "      <th>0</th>\n",
       "      <td>0.0</td>\n",
       "      <td>-2.882241e-01</td>\n",
       "      <td>12.0</td>\n",
       "    </tr>\n",
       "    <tr>\n",
       "      <th>1</th>\n",
       "      <td>1.0</td>\n",
       "      <td>-2.882241e-01</td>\n",
       "      <td>12.0</td>\n",
       "    </tr>\n",
       "    <tr>\n",
       "      <th>2</th>\n",
       "      <td>2.0</td>\n",
       "      <td>2.882241e-01</td>\n",
       "      <td>12.0</td>\n",
       "    </tr>\n",
       "    <tr>\n",
       "      <th>3</th>\n",
       "      <td>3.0</td>\n",
       "      <td>2.882241e-01</td>\n",
       "      <td>12.0</td>\n",
       "    </tr>\n",
       "    <tr>\n",
       "      <th>4</th>\n",
       "      <td>4.0</td>\n",
       "      <td>-1.549693e-18</td>\n",
       "      <td>12.0</td>\n",
       "    </tr>\n",
       "  </tbody>\n",
       "</table>\n",
       "</div>"
      ],
      "text/plain": [
       "   individual          beta  timescale\n",
       "0         0.0 -2.882241e-01       12.0\n",
       "1         1.0 -2.882241e-01       12.0\n",
       "2         2.0  2.882241e-01       12.0\n",
       "3         3.0  2.882241e-01       12.0\n",
       "4         4.0 -1.549693e-18       12.0"
      ]
     },
     "execution_count": 28,
     "metadata": {},
     "output_type": "execute_result"
    }
   ],
   "source": [
    "#put all columns together in one dataframe\n",
    "data = pd.read_csv(\"ordered_output.csv\")\n",
    "data.insert(0, 'individual', ind_id, True)\n",
    "data.insert(2, 'timescale', t_id, True)\n",
    "data"
   ]
  },
  {
   "cell_type": "markdown",
   "metadata": {},
   "source": [
    "#### 4 - Plot data"
   ]
  },
  {
   "cell_type": "code",
   "execution_count": 29,
   "metadata": {},
   "outputs": [
    {
     "data": {
      "text/plain": [
       "timescale\n",
       "12.0    AxesSubplot(0.125,0.125;0.775x0.755)\n",
       "dtype: object"
      ]
     },
     "execution_count": 29,
     "metadata": {},
     "output_type": "execute_result"
    },
    {
     "data": {
      "image/png": "[encoded data removed]",
      "text/plain": [
       "<Figure size 432x288 with 1 Axes>"
      ]
     },
     "metadata": {
      "needs_background": "light"
     },
     "output_type": "display_data"
    }
   ],
   "source": [
    "fig, ax = plt.subplots()\n",
    "data.groupby('timescale').plot(x='individual', y='beta', ax=ax)\n",
    "# data.plot(x='individual', y='beta')"
   ]
  },
  {
   "cell_type": "markdown",
   "metadata": {},
   "source": [
    "### Functions for pipeline"
   ]
  },
  {
   "cell_type": "code",
   "execution_count": 51,
   "metadata": {},
   "outputs": [],
   "source": [
    "def dc_feature(inf_pts, act_pts):\n",
    "    \"\"\"\n",
    "    Calculates the change in direction towards a point of influence for collected data and generated data\n",
    "    \n",
    "    Inputs:\n",
    "        inf_pts: 3D numpy array containing the xy coordinates for the point of influence in every frame (indvidual, frame, 2)\n",
    "        act_pts: 3D numpy array with raw xy positions of animals in space with shape (individual, frame, 2)\n",
    "    Outputs:\n",
    "        act_dc: 2D numpy array containing the change in direction towards the point of influence for every individual in every frame\n",
    "        alt_dcl: list of 2D numpy arrays containing the change in direction towards the point of influence for every individuals alternative steps\n",
    "    \"\"\"\n",
    "    \n",
    "    #generate change in direction from pt of influence for chosen and alternative steps\n",
    "    act_dc = dir_change(inf_pts, act_pts)\n",
    "    alt_sl = random_steps(act_pts)\n",
    "\n",
    "    alt_dcl = []\n",
    "    for i in range(len(alt_sl)):\n",
    "        alt_dc = dir_change(inf_pts, act_pts, alt_sl[i], rand_step=True)\n",
    "        alt_dcl.append(alt_dc)\n",
    "        \n",
    "    return act_dc, alt_dcl"
   ]
  },
  {
   "cell_type": "code",
   "execution_count": 109,
   "metadata": {},
   "outputs": [],
   "source": [
    "def dfl(alt_l, chosen, alt_fl=False, chosen_fl=False):\n",
    "    \"\"\"\n",
    "    Generates a dataframe containing all individuals and a list of data frames, one for each individual. Dfs can contain single or multiple features\n",
    "    \n",
    "    Inputs:\n",
    "        alt_l: list consisting of 2d numpy arrays. len(list) = number of alternative steps generated\n",
    "        chosen: 2d numpy array\n",
    "        alt_fl: a list of lists consisting of 2d numpy arrays. len(alt_fl) = number of features. len(alt_fl[0]) = number of alternative steps generated\n",
    "        chosen_fl: list consisting of 2d numpy arrays. len(list) = number of features\n",
    "    Output:\n",
    "        ind_dfl: list of dataframes, one for each individual with columns 'individual', 'feature', 'label', and 'frame'\n",
    "        if alt_fl and chosen_fl==True:\n",
    "            ind_dfl: a list of pandas dfs, one for each individual with columns 'individual', 'feature' * n, 'label', and 'frame'\n",
    "    \"\"\"\n",
    "    \n",
    "    if alt_fl & chosen_fl==True:\n",
    "        df = mult_feat_df(alt_fl, chosen_fl)\n",
    "        \n",
    "    else:\n",
    "        df = mclogit_df(alt_l, chosen)\n",
    "    \n",
    "    ind_dfl = ind_dfs(df, chosen.shape[0])\n",
    "    \n",
    "    return ind_dfl"
   ]
  },
  {
   "cell_type": "code",
   "execution_count": 88,
   "metadata": {},
   "outputs": [],
   "source": [
    "def save(filename, t, drop_lst, ind_dfl):\n",
    "    \"\"\"\n",
    "    Drops individuals with bad data and saves their dfs. Also returns a population df containing only the individuals with good data\n",
    "    \n",
    "    Inputs:\n",
    "        filename: string\n",
    "        t: int desigating the new timescale at witch the data is being analyzed\n",
    "        drop_lst: list of individuals to be dropped from dataset\n",
    "        ind_dfl: list of dataframes, one for each individual \n",
    "    Output:\n",
    "        pop_df: dataframe consisting of all individuals in the dataset with good data (individuals with bad data has been dropped)\n",
    "    \"\"\"\n",
    "    for i in range (len(ind_dfl)):\n",
    "        ind_dfl[i].to_csv(r'/Users/taylorcarter/Desktop/' + filename + '_ind' + str(i) + \n",
    "                                          'df_t' + str(t) + '.csv', index = False, header=True)\n",
    "    #drop individuals with 'bad data'\n",
    "    for ind in drop_lst:\n",
    "        os.remove(filename + '_ind' + str(ind) + 'df_t' + str(t) + '.csv')\n",
    "\n",
    "\n",
    "    #drop 'bad data' from population df\n",
    "    drop_lst1 = list.copy(drop_lst)\n",
    "    for ind in range(len(drop_lst1)):\n",
    "        if len(drop_lst1) > 1:\n",
    "            if drop_lst1[ind] >= drop_lst1[1]:\n",
    "                drop_lst1[ind] = drop_lst1[ind] - ind\n",
    "\n",
    "        del ind_dfl[drop_lst1[ind]]\n",
    "    pop_df = pd.concat(ind_dfl)\n",
    "\n",
    "    pop_df.to_csv(r'/Users/taylorcarter/Desktop/' + filename + '_population_df_t' + \n",
    "                         str(t) + '.csv', index = False, header=True)\n",
    "    return pop_df"
   ]
  },
  {
   "cell_type": "code",
   "execution_count": 107,
   "metadata": {},
   "outputs": [],
   "source": [
    "def beta_df(act_pts, times, drop_lstl, filename):\n",
    "    \"\"\"\n",
    "    Generates a df consisting of beta values for each individual, for each feature, at every time series\n",
    "    \n",
    "    Inputs:\n",
    "        act_pts: 3D numpy array with raw xy positions of animals in space with shape (individual, frame, 2)\n",
    "        times: list of time scale adjustments (ints)\n",
    "        drop_lstl: list of lists containing individuals to drop for each time series in times\n",
    "        filename: string, name of file from mclogit\n",
    "    Output:\n",
    "        beta_df: df consisting of beta values for each individual, for each feature, at every time series\n",
    "    \n",
    "    \"\"\"\n",
    "    \n",
    "    ind_idl = []\n",
    "    t_idl = []\n",
    "    \n",
    "    for t in range(len(times)):\n",
    "        \n",
    "        #create 'individual' and 'timescale' column\n",
    "        ind_id = np.zeros((1, act_pts.shape[0]+1))\n",
    "        t_id = np.zeros((1, act_pts.shape[0]+1))\n",
    "\n",
    "        for i in range(ind_id.shape[1]):\n",
    "            ind_id[:,i] = ind_id[:,i] + i\n",
    "        #     ind_id[:,-1] = -1 #bad when plotting\n",
    "\n",
    "        for i in range(t_id.shape[0]):\n",
    "            t_id[i] = t_id[i] + times[t]\n",
    "\n",
    "        #drop individual with 'bad data'\n",
    "        ind_id = np.delete(ind_id, drop_lstl[t], axis=1)\n",
    "        t_id = np.delete(t_id, drop_lstl[t], axis=1)\n",
    "\n",
    "        ind_id = np.concatenate((ind_id), axis=0)\n",
    "        t_id = np.concatenate((t_id), axis=0)\n",
    "\n",
    "        ind_idl.append(ind_id)\n",
    "        t_idl.append(t_id)\n",
    "    \n",
    "    ind_id = np.concatenate(ind_idl)\n",
    "    t_id = np.concatenate(t_idl)\n",
    "    \n",
    "    #put all columns together in one dataframe\n",
    "    beta_df = pd.read_csv(filename + \"_output.csv\")\n",
    "    beta_df.insert(0, 'individual', ind_id, True)\n",
    "    beta_df.insert(beta_df.shape[1], 'timescale', t_id, True)\n",
    "    \n",
    "    return beta_df"
   ]
  },
  {
   "cell_type": "code",
   "execution_count": null,
   "metadata": {},
   "outputs": [],
   "source": []
  },
  {
   "cell_type": "code",
   "execution_count": null,
   "metadata": {},
   "outputs": [],
   "source": []
  },
  {
   "cell_type": "markdown",
   "metadata": {},
   "source": [
    "### Create and test social density fucntion\n",
    "    - Fraction of all troop mates withing a 4.25m radius (1 for now) of poulation location (the group center will be the population location)"
   ]
  },
  {
   "cell_type": "code",
   "execution_count": 447,
   "metadata": {},
   "outputs": [],
   "source": [
    "def cal_fraction(array1, array2, r, num_ind_drop=0):\n",
    "    \"\"\"\n",
    "    Calcualtes fraction of individuals within a given radius of a focal individual\n",
    "    \n",
    "    Inputs:\n",
    "        array1: 3D numpy array (ind, frame, xy)\n",
    "        array2: 3D numpy array (ind, frame, xy). Focal indivdual\n",
    "        num_ind_drop: number of individuals to drop from the data (problem with too many NaNs)\n",
    "    Output:\n",
    "        counts: 2D numpy array containing the fraction of individuals within the given radius of the focal individual. shape (ind, frame)\n",
    "    \n",
    "    \"\"\"\n",
    "    counts = np.zeros((array1.shape[0], array1.shape[1]))\n",
    "    \n",
    "    for ind in range(array1.shape[0]):\n",
    "        loc = (array1[:,:,0] - array2[ind,:,0])**2 + (array1[:,:,1] - array2[ind,:,1])**2\n",
    "        loc = np.where((loc<=r**2), 1, 0)\n",
    "        loc[ind] = 0 #eliminating focal individual from count\n",
    "        \n",
    "        fraction = np.nansum(loc, axis=0)/((array1.shape[0]-1) - num_ind_drop)\n",
    "        counts[ind] = fraction\n",
    "    \n",
    "    return counts"
   ]
  },
  {
   "cell_type": "code",
   "execution_count": 52,
   "metadata": {},
   "outputs": [],
   "source": [
    "def sd_feature(alt_pts, act_pts, r, num_ind_drop=0):\n",
    "    \"\"\"\n",
    "    Calculates fraction of all group mates within a given radius of a focal indivdiual and its alternative steps\n",
    "    \n",
    "    Inputs:\n",
    "        alt_pts: list of 3D numpy arrays with new xy positions of animals in pts_act. alt_pts[0] = xy coordinates\n",
    "                 of an alternative step for each individual\n",
    "        act_pts: 3D numpy array with raw xy positions of animals in space with shape (individual, frame, 2)\n",
    "        r: int, radius of circle of social influence\n",
    "        numb_ind_drop: int (len(drop_lst)). number of individuals to drop from dataset (too many NaNs)\n",
    "    Output:\n",
    "        counts: 2D numpy array containing the fraction of individuals within the given radius of the focal individual. shape (ind, frame)\n",
    "        alt_countsl: list of 2d numpy arrays containing the fraction of individuals within the given radius of a focal individuals alternative step.\n",
    "                     shape (ind, frame)\n",
    "    \n",
    "    \"\"\"\n",
    "    counts = cal_fraction(act_pts, act_pts, r, num_ind_drop=0)    \n",
    "    counts = counts[:,:-1] #need drop last frame to match len of direction change feature\n",
    "    \n",
    "    alt_countsl = []\n",
    "    for step in range(len(alt_pts)):\n",
    "        alt_counts = cal_fraction(act_pts, alt_pts[step], r, num_ind_drop=0)\n",
    "        alt_counts = alt_counts[:, :-1] #need drop last frame to match len of direction change feature\n",
    "        \n",
    "        alt_countsl.append(alt_counts)\n",
    "    \n",
    "    return counts, alt_countsl"
   ]
  },
  {
   "cell_type": "markdown",
   "metadata": {},
   "source": [
    "#### Test of sd_feature fucntion and cal_fraction funcitons"
   ]
  },
  {
   "cell_type": "code",
   "execution_count": 450,
   "metadata": {},
   "outputs": [],
   "source": [
    "small_array = np.random.rand(4, 24, 2)\n",
    "r = 3 #all individuals are within this radius because small_array is numbers btwn 0 and 1 => fraction should be 1\n",
    "rsl = random_steps(small_array)\n",
    "chosen_sd, alt_l_sd = sd_feature(rsl, small_array, r)"
   ]
  },
  {
   "cell_type": "code",
   "execution_count": 451,
   "metadata": {},
   "outputs": [
    {
     "name": "stdout",
     "output_type": "stream",
     "text": [
      "[[1. 1. 1. 1. 1. 1. 1. 1. 1. 1. 1. 1. 1. 1. 1. 1. 1. 1. 1. 1. 1. 1. 1.]\n",
      " [1. 1. 1. 1. 1. 1. 1. 1. 1. 1. 1. 1. 1. 1. 1. 1. 1. 1. 1. 1. 1. 1. 1.]\n",
      " [1. 1. 1. 1. 1. 1. 1. 1. 1. 1. 1. 1. 1. 1. 1. 1. 1. 1. 1. 1. 1. 1. 1.]\n",
      " [1. 1. 1. 1. 1. 1. 1. 1. 1. 1. 1. 1. 1. 1. 1. 1. 1. 1. 1. 1. 1. 1. 1.]]\n",
      "[array([[1., 1., 1., 1., 1., 1., 1., 1., 1., 1., 1., 1., 1., 1., 1., 1.,\n",
      "        1., 1., 1., 1., 1., 1., 1.],\n",
      "       [1., 1., 1., 1., 1., 1., 1., 1., 1., 1., 1., 1., 1., 1., 1., 1.,\n",
      "        1., 1., 1., 1., 1., 1., 1.],\n",
      "       [1., 1., 1., 1., 1., 1., 1., 1., 1., 1., 1., 1., 1., 1., 1., 1.,\n",
      "        1., 1., 1., 1., 1., 1., 1.],\n",
      "       [1., 1., 1., 1., 1., 1., 1., 1., 1., 1., 1., 1., 1., 1., 1., 1.,\n",
      "        1., 1., 1., 1., 1., 1., 1.]]), array([[1., 1., 1., 1., 1., 1., 1., 1., 1., 1., 1., 1., 1., 1., 1., 1.,\n",
      "        1., 1., 1., 1., 1., 1., 1.],\n",
      "       [1., 1., 1., 1., 1., 1., 1., 1., 1., 1., 1., 1., 1., 1., 1., 1.,\n",
      "        1., 1., 1., 1., 1., 1., 1.],\n",
      "       [1., 1., 1., 1., 1., 1., 1., 1., 1., 1., 1., 1., 1., 1., 1., 1.,\n",
      "        1., 1., 1., 1., 1., 1., 1.],\n",
      "       [1., 1., 1., 1., 1., 1., 1., 1., 1., 1., 1., 1., 1., 1., 1., 1.,\n",
      "        1., 1., 1., 1., 1., 1., 1.]]), array([[1., 1., 1., 1., 1., 1., 1., 1., 1., 1., 1., 1., 1., 1., 1., 1.,\n",
      "        1., 1., 1., 1., 1., 1., 1.],\n",
      "       [1., 1., 1., 1., 1., 1., 1., 1., 1., 1., 1., 1., 1., 1., 1., 1.,\n",
      "        1., 1., 1., 1., 1., 1., 1.],\n",
      "       [1., 1., 1., 1., 1., 1., 1., 1., 1., 1., 1., 1., 1., 1., 1., 1.,\n",
      "        1., 1., 1., 1., 1., 1., 1.],\n",
      "       [1., 1., 1., 1., 1., 1., 1., 1., 1., 1., 1., 1., 1., 1., 1., 1.,\n",
      "        1., 1., 1., 1., 1., 1., 1.]]), array([[1., 1., 1., 1., 1., 1., 1., 1., 1., 1., 1., 1., 1., 1., 1., 1.,\n",
      "        1., 1., 1., 1., 1., 1., 1.],\n",
      "       [1., 1., 1., 1., 1., 1., 1., 1., 1., 1., 1., 1., 1., 1., 1., 1.,\n",
      "        1., 1., 1., 1., 1., 1., 1.],\n",
      "       [1., 1., 1., 1., 1., 1., 1., 1., 1., 1., 1., 1., 1., 1., 1., 1.,\n",
      "        1., 1., 1., 1., 1., 1., 1.],\n",
      "       [1., 1., 1., 1., 1., 1., 1., 1., 1., 1., 1., 1., 1., 1., 1., 1.,\n",
      "        1., 1., 1., 1., 1., 1., 1.]]), array([[1., 1., 1., 1., 1., 1., 1., 1., 1., 1., 1., 1., 1., 1., 1., 1.,\n",
      "        1., 1., 1., 1., 1., 1., 1.],\n",
      "       [1., 1., 1., 1., 1., 1., 1., 1., 1., 1., 1., 1., 1., 1., 1., 1.,\n",
      "        1., 1., 1., 1., 1., 1., 1.],\n",
      "       [1., 1., 1., 1., 1., 1., 1., 1., 1., 1., 1., 1., 1., 1., 1., 1.,\n",
      "        1., 1., 1., 1., 1., 1., 1.],\n",
      "       [1., 1., 1., 1., 1., 1., 1., 1., 1., 1., 1., 1., 1., 1., 1., 1.,\n",
      "        1., 1., 1., 1., 1., 1., 1.]])]\n"
     ]
    }
   ],
   "source": [
    "print(chosen_sd) #fraction of individuals in the circle\n",
    "print(alt_l_sd)"
   ]
  },
  {
   "cell_type": "code",
   "execution_count": 530,
   "metadata": {},
   "outputs": [
    {
     "name": "stderr",
     "output_type": "stream",
     "text": [
      "/opt/anaconda2/envs/mixed/lib/python3.6/site-packages/ipykernel_launcher.py:16: RuntimeWarning: invalid value encountered in less_equal\n",
      "  app.launch_new_instance()\n"
     ]
    }
   ],
   "source": [
    "r = 10 #all individuals are within this radius because small_array is numbers btwn 0 and 1 => fraction should be 1\n",
    "rsl = random_steps(positions[0])\n",
    "chosen_sd, alt_l_sd = sd_feature(rsl, positions[0], r, num_ind_drop=2)"
   ]
  },
  {
   "cell_type": "code",
   "execution_count": 532,
   "metadata": {},
   "outputs": [
    {
     "name": "stdout",
     "output_type": "stream",
     "text": [
      "[[0.14285714 0.14285714 0.14285714 ... 0.07142857 0.07142857 0.07142857]\n",
      " [0.         0.         0.         ... 0.         0.         0.        ]\n",
      " [0.         0.         0.         ... 0.         0.         0.        ]\n",
      " ...\n",
      " [0.         0.         0.         ... 0.         0.         0.        ]\n",
      " [0.         0.         0.         ... 0.         0.         0.        ]\n",
      " [0.         0.         0.         ... 0.         0.         0.        ]]\n"
     ]
    }
   ],
   "source": [
    "print(chosen_sd)\n",
    "# print('space')\n",
    "# print(alt_l_sd)"
   ]
  },
  {
   "cell_type": "markdown",
   "metadata": {},
   "source": [
    "### Create and test recently used space function\n",
    "    - Number of other individuals (not including the focal individual) that have occupied a potential location within the past 4.5 min (4 frames for now)\n",
    "        - Considered to occupy the location if within 1m of that location"
   ]
  },
  {
   "cell_type": "code",
   "execution_count": 555,
   "metadata": {},
   "outputs": [],
   "source": [
    "def count_ind(array1, array2, r, time, double_count=True):\n",
    "    \"\"\"\n",
    "    Calcualtes number of individuals that have occupied a potential location within the past time\n",
    "    \n",
    "    Inputs:\n",
    "        time: int. How many frames to look back through\n",
    "        array1: 3D numpy array (ind, frame, xy)\n",
    "        array2: 3D numpy array (ind, frame, xy). Focal indivdual\n",
    "    Output:\n",
    "        counts: 2D numpy array containing the number of individuals that have occupied a potential location within the past time\n",
    "        If double_count==False:\n",
    "            counts: 2D numpy array containing the number of individuals that have occupied a potential location within the past time. Individuals will not\n",
    "                    be double counted\n",
    "    \"\"\"\n",
    "\n",
    "    counts = np.zeros((array1.shape[0], array1.shape[1]))\n",
    "    \n",
    "    #need to fill in with NaNs to keep indexing intact when making a df\n",
    "    counts[:,0:time] = counts[:,0:time] * np.NaN\n",
    "\n",
    "    for ind in range(array1.shape[0]):\n",
    "        for f in range(array1.shape[1]-time):\n",
    "            loc = (array1[:,f:time+f,0] - array2[ind,time+f,0])**2 + (array1[:,f:time+f,1] - array2[ind,time+f,1])**2\n",
    "            loc = np.where((loc<=r**2), 1, 0)\n",
    "            loc[ind] = 0 #eliminating focal individual from count\n",
    "            \n",
    "            if double_count==False:\n",
    "                \n",
    "                loc = np.any(loc, axis=1)\n",
    "                count = np.sum(loc)\n",
    "                \n",
    "            else:\n",
    "                count = np.nansum(loc)\n",
    "            \n",
    "            counts[ind,f+time] = count\n",
    "                \n",
    "    return counts"
   ]
  },
  {
   "cell_type": "code",
   "execution_count": 537,
   "metadata": {},
   "outputs": [],
   "source": [
    "def ru_feature(alt_pts, act_pts, r, time, double_count=True):\n",
    "    \"\"\"\n",
    "    Calculates number of individuals that have occupied a potential location within the past 4.5min for a focal indivdiual and its alternative steps\n",
    "    \n",
    "    Inputs:\n",
    "        num: int. How many frames to look back through\n",
    "        alt_pts: list of 3D numpy arrays with new xy positions of animals in pts_act. alt_pts[0] = xy coordinates\n",
    "                 of an alternative step for each individual\n",
    "        act_pts: 3D numpy array with raw xy positions of animals in space with shape (individual, frame, 2)\n",
    "        r: int, radius of circle of social influence\n",
    "    Output:\n",
    "        counts: 2D numpy array containing the fraction of individuals within the given radius of the focal individual. shape (ind, frame)\n",
    "        alt_countsl: list of 2d numpy arrays containing the fraction of individuals within the given radius of a focal individuals alternative step.\n",
    "                     shape (ind, frame)\n",
    "    \n",
    "    \"\"\"\n",
    "    counts = count_ind(act_pts, act_pts, r, time, double_count)  \n",
    "    counts = counts[:,:-1] #need drop last frame to match len of direction change feature\n",
    "    \n",
    "    alt_countsl = []\n",
    "    for step in range(len(alt_pts)):\n",
    "        alt_counts = count_ind(act_pts, alt_pts[step], r, time, double_count)\n",
    "        alt_counts = alt_counts[:, :-1] #need drop last frame to match len of direction change feature\n",
    "        \n",
    "        alt_countsl.append(alt_counts)\n",
    "    \n",
    "    return counts, alt_countsl"
   ]
  },
  {
   "cell_type": "markdown",
   "metadata": {},
   "source": [
    "#### Test of ru_feature fucntion and count_ind funcitons"
   ]
  },
  {
   "cell_type": "code",
   "execution_count": 560,
   "metadata": {},
   "outputs": [],
   "source": [
    "small_array = np.random.rand(4, 24, 2)\n",
    "t = 4\n",
    "radius = 0.5 #all individuals are within this radius because small_array is numbers btwn 0 and 1\n",
    "rsl = random_steps(small_array)\n",
    "chosen_t, alt_l_t = ru_feature(rsl, small_array, radius, t, True) #allows individuals to be counted twice in every timeframe being analyzed; max of t * (small_array.shape[0]-1)\n",
    "chosen_f, alt_l_f = ru_feature(rsl, small_array, radius, t, False) #does not allow individuals to be counted more than once in every timeframe being analyzed; small_array.shape[0]-1"
   ]
  },
  {
   "cell_type": "code",
   "execution_count": 561,
   "metadata": {},
   "outputs": [
    {
     "name": "stdout",
     "output_type": "stream",
     "text": [
      "[[nan nan nan nan  5.  3.  4.  6.  7.  3.  7.  9.  5.  4.  6.  3.  7.  6.\n",
      "   7.  5.  6.  8.  8.]\n",
      " [nan nan nan nan  5. 10.  8.  5.  3.  2.  4. 10.  5.  9.  7.  4.  4.  9.\n",
      "   2.  4.  4.  6.  3.]\n",
      " [nan nan nan nan  6.  9.  1.  8.  9.  3.  4.  6.  4.  3.  8.  5.  8.  7.\n",
      "   5.  6.  6.  9.  3.]\n",
      " [nan nan nan nan  4.  5.  5.  7.  8.  7.  3.  2.  6.  4.  9.  9.  8.  8.\n",
      "   5.  3.  8.  8.  8.]]\n",
      "[[nan nan nan nan  3.  1.  2.  3.  3.  1.  3.  3.  3.  3.  3.  3.  3.  3.\n",
      "   3.  3.  3.  3.  3.]\n",
      " [nan nan nan nan  3.  3.  3.  3.  3.  2.  2.  3.  3.  3.  3.  3.  3.  3.\n",
      "   1.  2.  2.  3.  2.]\n",
      " [nan nan nan nan  3.  3.  1.  3.  3.  2.  2.  3.  2.  3.  3.  3.  3.  3.\n",
      "   3.  3.  3.  3.  1.]\n",
      " [nan nan nan nan  3.  3.  3.  3.  3.  3.  2.  1.  3.  3.  3.  3.  3.  3.\n",
      "   3.  3.  3.  3.  3.]]\n"
     ]
    }
   ],
   "source": [
    "print(chosen_t)\n",
    "print(chosen_f)"
   ]
  },
  {
   "cell_type": "code",
   "execution_count": 538,
   "metadata": {},
   "outputs": [
    {
     "name": "stderr",
     "output_type": "stream",
     "text": [
      "/opt/anaconda2/envs/mixed/lib/python3.6/site-packages/ipykernel_launcher.py:24: RuntimeWarning: invalid value encountered in less_equal\n"
     ]
    }
   ],
   "source": [
    "#has yet to run with all frames\n",
    "\n",
    "t = 1800\n",
    "radius = 100 #all individuals are within this radius because small_array is numbers btwn 0 and 1\n",
    "rsl = random_steps(positions[0][:,:1802])\n",
    "chosen_t, alt_l_t = ru_feature(rsl, positions[0][:,:1802], radius, t, True) #allows individuals to be counted twice in every timeframe being analyzed; max of t * (small_array.shape[0]-1)\n",
    "chosen_f, alt_l_f = ru_feature(rsl, positions[0][:,:1802], radius, t, False) #does not allow individuals to be counted more than once in every timeframe being analyzed; small_array.shape[0]-1"
   ]
  },
  {
   "cell_type": "code",
   "execution_count": 539,
   "metadata": {},
   "outputs": [
    {
     "name": "stdout",
     "output_type": "stream",
     "text": [
      "[[   nan    nan    nan ...    nan    nan 17400.]\n",
      " [   nan    nan    nan ...    nan    nan 17400.]\n",
      " [   nan    nan    nan ...    nan    nan 17400.]\n",
      " ...\n",
      " [   nan    nan    nan ...    nan    nan     0.]\n",
      " [   nan    nan    nan ...    nan    nan     0.]\n",
      " [   nan    nan    nan ...    nan    nan     0.]]\n",
      "[[nan nan nan ... nan nan 11.]\n",
      " [nan nan nan ... nan nan 11.]\n",
      " [nan nan nan ... nan nan 11.]\n",
      " ...\n",
      " [nan nan nan ... nan nan  0.]\n",
      " [nan nan nan ... nan nan  0.]\n",
      " [nan nan nan ... nan nan  0.]]\n"
     ]
    }
   ],
   "source": [
    "print(chosen_t)\n",
    "print(chosen_f)"
   ]
  },
  {
   "cell_type": "code",
   "execution_count": 549,
   "metadata": {},
   "outputs": [],
   "source": [
    "import time"
   ]
  },
  {
   "cell_type": "code",
   "execution_count": 562,
   "metadata": {},
   "outputs": [
    {
     "name": "stderr",
     "output_type": "stream",
     "text": [
      "/opt/anaconda2/envs/mixed/lib/python3.6/site-packages/ipykernel_launcher.py:24: RuntimeWarning: invalid value encountered in less_equal\n"
     ]
    },
    {
     "name": "stdout",
     "output_type": "stream",
     "text": [
      "3.124190092086792\n",
      "2.7985939979553223\n"
     ]
    }
   ],
   "source": [
    "t = 300\n",
    "frame = 500\n",
    "rsl = random_steps(positions[0][:,:frame])\n",
    "t0 = time.time()\n",
    "chosen_t, alt_l_t = ru_feature(rsl, positions[0][:,:frame], radius, t, True)\n",
    "t1 = time.time()\n",
    "chosen_f, alt_l_f = ru_feature(rsl, positions[0][:,:frame], radius, t, False)\n",
    "t2 = time.time()\n",
    "print(t1-t0)\n",
    "print(t2-t1)"
   ]
  },
  {
   "cell_type": "markdown",
   "metadata": {},
   "source": [
    "### Pipeline with actual data"
   ]
  },
  {
   "cell_type": "markdown",
   "metadata": {},
   "source": [
    "#### 1 - Generating data for direction change feature"
   ]
  },
  {
   "cell_type": "code",
   "execution_count": 540,
   "metadata": {},
   "outputs": [
    {
     "name": "stderr",
     "output_type": "stream",
     "text": [
      "/opt/anaconda2/envs/mixed/lib/python3.6/site-packages/ipykernel_launcher.py:37: RuntimeWarning: invalid value encountered in less\n",
      "/opt/anaconda2/envs/mixed/lib/python3.6/site-packages/ipykernel_launcher.py:38: RuntimeWarning: invalid value encountered in greater\n"
     ]
    }
   ],
   "source": [
    "#did for multiple times but individually\n",
    "times = [30, 60, 90, 1800]\n",
    "drop_lstl = []\n",
    "\n",
    "for t in range(len(times)):\n",
    "    #alter data time scale \n",
    "    time_adj, drop_lst = ts_adjust(positions[0], times[t])\n",
    "    drop_lstl.append(drop_lst)\n",
    "    \n",
    "    #generate feature(s)\n",
    "    _, act_center = group_center(time_adj)\n",
    "    act_dc, alt_dcl = dc_feature(act_center, time_adj)\n",
    "    \n",
    "    #create dataframes for mclogit\n",
    "    ind_dfl = dfl(alt_dcl, act_dc)\n",
    "    \n",
    "    #create population df and save ind as well as population dfs\n",
    "    filename = 'dc_positions0'\n",
    "    pop_df = save(filename, times[t], drop_lst, ind_dfl)"
   ]
  },
  {
   "cell_type": "code",
   "execution_count": 547,
   "metadata": {},
   "outputs": [],
   "source": [
    "times = [30, 60, 90, 1800]\n",
    "filename = 'dc_positions0'\n",
    "df = beta_df(positions[0], times, drop_lstl, filename)\n",
    "# df"
   ]
  },
  {
   "cell_type": "code",
   "execution_count": 542,
   "metadata": {},
   "outputs": [
    {
     "data": {
      "text/plain": [
       "timescale\n",
       "30.0      AxesSubplot(0.125,0.125;0.775x0.755)\n",
       "60.0      AxesSubplot(0.125,0.125;0.775x0.755)\n",
       "90.0      AxesSubplot(0.125,0.125;0.775x0.755)\n",
       "1800.0    AxesSubplot(0.125,0.125;0.775x0.755)\n",
       "dtype: object"
      ]
     },
     "execution_count": 542,
     "metadata": {},
     "output_type": "execute_result"
    },
    {
     "data": {
      "image/png": "[encoded data removed]",
      "text/plain": [
       "<Figure size 432x288 with 1 Axes>"
      ]
     },
     "metadata": {
      "needs_background": "light"
     },
     "output_type": "display_data"
    }
   ],
   "source": [
    "fig, ax = plt.subplots()\n",
    "data.groupby('timescale').plot(x='individual', y='beta', ax=ax)"
   ]
  },
  {
   "cell_type": "markdown",
   "metadata": {},
   "source": [
    "#### 2 - Generating data for social density feature"
   ]
  },
  {
   "cell_type": "code",
   "execution_count": 548,
   "metadata": {},
   "outputs": [
    {
     "name": "stderr",
     "output_type": "stream",
     "text": [
      "/opt/anaconda2/envs/mixed/lib/python3.6/site-packages/ipykernel_launcher.py:16: RuntimeWarning: invalid value encountered in less_equal\n",
      "  app.launch_new_instance()\n"
     ]
    }
   ],
   "source": [
    "#did for multiple times but individually\n",
    "times = [30, 60, 90, 1800]\n",
    "drop_lstl = []\n",
    "r = 1\n",
    "for t in range(len(times)):\n",
    "    #alter data time scale \n",
    "    time_adj, drop_lst = ts_adjust(positions[0], times[t])\n",
    "    drop_lstl.append(drop_lst)\n",
    "    \n",
    "    #generate feature(s)\n",
    "    rsl = random_steps(time_adj)\n",
    "    chosen_sd, alt_l_sd = sd_feature(rsl, time_adj, r)\n",
    "\n",
    "    #create dataframes for mclogit\n",
    "    ind_dfl = dfl(alt_l_sd, chosen_sd)\n",
    "    \n",
    "    #create population df and save ind as well as population dfs\n",
    "    filename = 'sd_positions0'\n",
    "    pop_df = save(filename, times[t], drop_lst, ind_dfl)"
   ]
  },
  {
   "cell_type": "code",
   "execution_count": 545,
   "metadata": {},
   "outputs": [
    {
     "ename": "ValueError",
     "evalue": "Length of values does not match length of index",
     "output_type": "error",
     "traceback": [
      "\u001b[0;31m---------------------------------------------------------------------------\u001b[0m",
      "\u001b[0;31mValueError\u001b[0m                                Traceback (most recent call last)",
      "\u001b[0;32m<ipython-input-545-1f951a4e37c7>\u001b[0m in \u001b[0;36m<module>\u001b[0;34m\u001b[0m\n\u001b[1;32m      1\u001b[0m \u001b[0mtimes\u001b[0m \u001b[0;34m=\u001b[0m \u001b[0;34m[\u001b[0m\u001b[0;36m30\u001b[0m\u001b[0;34m,\u001b[0m \u001b[0;36m60\u001b[0m\u001b[0;34m,\u001b[0m \u001b[0;36m90\u001b[0m\u001b[0;34m,\u001b[0m \u001b[0;36m1800\u001b[0m\u001b[0;34m]\u001b[0m\u001b[0;34m\u001b[0m\u001b[0;34m\u001b[0m\u001b[0m\n\u001b[1;32m      2\u001b[0m \u001b[0mfilename\u001b[0m \u001b[0;34m=\u001b[0m \u001b[0;34m'sd_positions0'\u001b[0m\u001b[0;34m\u001b[0m\u001b[0;34m\u001b[0m\u001b[0m\n\u001b[0;32m----> 3\u001b[0;31m \u001b[0mdf\u001b[0m \u001b[0;34m=\u001b[0m \u001b[0mbeta_df\u001b[0m\u001b[0;34m(\u001b[0m\u001b[0mpositions\u001b[0m\u001b[0;34m[\u001b[0m\u001b[0;36m0\u001b[0m\u001b[0;34m]\u001b[0m\u001b[0;34m,\u001b[0m \u001b[0mtimes\u001b[0m\u001b[0;34m,\u001b[0m \u001b[0mdrop_lstl\u001b[0m\u001b[0;34m,\u001b[0m \u001b[0mfilename\u001b[0m\u001b[0;34m)\u001b[0m\u001b[0;34m\u001b[0m\u001b[0;34m\u001b[0m\u001b[0m\n\u001b[0m",
      "\u001b[0;32m<ipython-input-107-ae6a8663c577>\u001b[0m in \u001b[0;36mbeta_df\u001b[0;34m(act_pts, times, drop_lstl, filename)\u001b[0m\n\u001b[1;32m     44\u001b[0m     \u001b[0;31m#put all columns together in one dataframe\u001b[0m\u001b[0;34m\u001b[0m\u001b[0;34m\u001b[0m\u001b[0;34m\u001b[0m\u001b[0m\n\u001b[1;32m     45\u001b[0m     \u001b[0mbeta_df\u001b[0m \u001b[0;34m=\u001b[0m \u001b[0mpd\u001b[0m\u001b[0;34m.\u001b[0m\u001b[0mread_csv\u001b[0m\u001b[0;34m(\u001b[0m\u001b[0mfilename\u001b[0m \u001b[0;34m+\u001b[0m \u001b[0;34m\"_output.csv\"\u001b[0m\u001b[0;34m)\u001b[0m\u001b[0;34m\u001b[0m\u001b[0;34m\u001b[0m\u001b[0m\n\u001b[0;32m---> 46\u001b[0;31m     \u001b[0mbeta_df\u001b[0m\u001b[0;34m.\u001b[0m\u001b[0minsert\u001b[0m\u001b[0;34m(\u001b[0m\u001b[0;36m0\u001b[0m\u001b[0;34m,\u001b[0m \u001b[0;34m'individual'\u001b[0m\u001b[0;34m,\u001b[0m \u001b[0mind_id\u001b[0m\u001b[0;34m,\u001b[0m \u001b[0;32mTrue\u001b[0m\u001b[0;34m)\u001b[0m\u001b[0;34m\u001b[0m\u001b[0;34m\u001b[0m\u001b[0m\n\u001b[0m\u001b[1;32m     47\u001b[0m     \u001b[0mbeta_df\u001b[0m\u001b[0;34m.\u001b[0m\u001b[0minsert\u001b[0m\u001b[0;34m(\u001b[0m\u001b[0mbeta_df\u001b[0m\u001b[0;34m.\u001b[0m\u001b[0mshape\u001b[0m\u001b[0;34m[\u001b[0m\u001b[0;36m1\u001b[0m\u001b[0;34m]\u001b[0m\u001b[0;34m,\u001b[0m \u001b[0;34m'timescale'\u001b[0m\u001b[0;34m,\u001b[0m \u001b[0mt_id\u001b[0m\u001b[0;34m,\u001b[0m \u001b[0;32mTrue\u001b[0m\u001b[0;34m)\u001b[0m\u001b[0;34m\u001b[0m\u001b[0;34m\u001b[0m\u001b[0m\n\u001b[1;32m     48\u001b[0m \u001b[0;34m\u001b[0m\u001b[0m\n",
      "\u001b[0;32m/opt/anaconda2/envs/mixed/lib/python3.6/site-packages/pandas/core/frame.py\u001b[0m in \u001b[0;36minsert\u001b[0;34m(self, loc, column, value, allow_duplicates)\u001b[0m\n\u001b[1;32m   3493\u001b[0m         \"\"\"\n\u001b[1;32m   3494\u001b[0m         \u001b[0mself\u001b[0m\u001b[0;34m.\u001b[0m\u001b[0m_ensure_valid_index\u001b[0m\u001b[0;34m(\u001b[0m\u001b[0mvalue\u001b[0m\u001b[0;34m)\u001b[0m\u001b[0;34m\u001b[0m\u001b[0;34m\u001b[0m\u001b[0m\n\u001b[0;32m-> 3495\u001b[0;31m         \u001b[0mvalue\u001b[0m \u001b[0;34m=\u001b[0m \u001b[0mself\u001b[0m\u001b[0;34m.\u001b[0m\u001b[0m_sanitize_column\u001b[0m\u001b[0;34m(\u001b[0m\u001b[0mcolumn\u001b[0m\u001b[0;34m,\u001b[0m \u001b[0mvalue\u001b[0m\u001b[0;34m,\u001b[0m \u001b[0mbroadcast\u001b[0m\u001b[0;34m=\u001b[0m\u001b[0;32mFalse\u001b[0m\u001b[0;34m)\u001b[0m\u001b[0;34m\u001b[0m\u001b[0;34m\u001b[0m\u001b[0m\n\u001b[0m\u001b[1;32m   3496\u001b[0m         \u001b[0mself\u001b[0m\u001b[0;34m.\u001b[0m\u001b[0m_data\u001b[0m\u001b[0;34m.\u001b[0m\u001b[0minsert\u001b[0m\u001b[0;34m(\u001b[0m\u001b[0mloc\u001b[0m\u001b[0;34m,\u001b[0m \u001b[0mcolumn\u001b[0m\u001b[0;34m,\u001b[0m \u001b[0mvalue\u001b[0m\u001b[0;34m,\u001b[0m \u001b[0mallow_duplicates\u001b[0m\u001b[0;34m=\u001b[0m\u001b[0mallow_duplicates\u001b[0m\u001b[0;34m)\u001b[0m\u001b[0;34m\u001b[0m\u001b[0;34m\u001b[0m\u001b[0m\n\u001b[1;32m   3497\u001b[0m \u001b[0;34m\u001b[0m\u001b[0m\n",
      "\u001b[0;32m/opt/anaconda2/envs/mixed/lib/python3.6/site-packages/pandas/core/frame.py\u001b[0m in \u001b[0;36m_sanitize_column\u001b[0;34m(self, key, value, broadcast)\u001b[0m\n\u001b[1;32m   3634\u001b[0m \u001b[0;34m\u001b[0m\u001b[0m\n\u001b[1;32m   3635\u001b[0m             \u001b[0;31m# turn me into an ndarray\u001b[0m\u001b[0;34m\u001b[0m\u001b[0;34m\u001b[0m\u001b[0;34m\u001b[0m\u001b[0m\n\u001b[0;32m-> 3636\u001b[0;31m             \u001b[0mvalue\u001b[0m \u001b[0;34m=\u001b[0m \u001b[0msanitize_index\u001b[0m\u001b[0;34m(\u001b[0m\u001b[0mvalue\u001b[0m\u001b[0;34m,\u001b[0m \u001b[0mself\u001b[0m\u001b[0;34m.\u001b[0m\u001b[0mindex\u001b[0m\u001b[0;34m,\u001b[0m \u001b[0mcopy\u001b[0m\u001b[0;34m=\u001b[0m\u001b[0;32mFalse\u001b[0m\u001b[0;34m)\u001b[0m\u001b[0;34m\u001b[0m\u001b[0;34m\u001b[0m\u001b[0m\n\u001b[0m\u001b[1;32m   3637\u001b[0m             \u001b[0;32mif\u001b[0m \u001b[0;32mnot\u001b[0m \u001b[0misinstance\u001b[0m\u001b[0;34m(\u001b[0m\u001b[0mvalue\u001b[0m\u001b[0;34m,\u001b[0m \u001b[0;34m(\u001b[0m\u001b[0mnp\u001b[0m\u001b[0;34m.\u001b[0m\u001b[0mndarray\u001b[0m\u001b[0;34m,\u001b[0m \u001b[0mIndex\u001b[0m\u001b[0;34m)\u001b[0m\u001b[0;34m)\u001b[0m\u001b[0;34m:\u001b[0m\u001b[0;34m\u001b[0m\u001b[0;34m\u001b[0m\u001b[0m\n\u001b[1;32m   3638\u001b[0m                 \u001b[0;32mif\u001b[0m \u001b[0misinstance\u001b[0m\u001b[0;34m(\u001b[0m\u001b[0mvalue\u001b[0m\u001b[0;34m,\u001b[0m \u001b[0mlist\u001b[0m\u001b[0;34m)\u001b[0m \u001b[0;32mand\u001b[0m \u001b[0mlen\u001b[0m\u001b[0;34m(\u001b[0m\u001b[0mvalue\u001b[0m\u001b[0;34m)\u001b[0m \u001b[0;34m>\u001b[0m \u001b[0;36m0\u001b[0m\u001b[0;34m:\u001b[0m\u001b[0;34m\u001b[0m\u001b[0;34m\u001b[0m\u001b[0m\n",
      "\u001b[0;32m/opt/anaconda2/envs/mixed/lib/python3.6/site-packages/pandas/core/internals/construction.py\u001b[0m in \u001b[0;36msanitize_index\u001b[0;34m(data, index, copy)\u001b[0m\n\u001b[1;32m    609\u001b[0m \u001b[0;34m\u001b[0m\u001b[0m\n\u001b[1;32m    610\u001b[0m     \u001b[0;32mif\u001b[0m \u001b[0mlen\u001b[0m\u001b[0;34m(\u001b[0m\u001b[0mdata\u001b[0m\u001b[0;34m)\u001b[0m \u001b[0;34m!=\u001b[0m \u001b[0mlen\u001b[0m\u001b[0;34m(\u001b[0m\u001b[0mindex\u001b[0m\u001b[0;34m)\u001b[0m\u001b[0;34m:\u001b[0m\u001b[0;34m\u001b[0m\u001b[0;34m\u001b[0m\u001b[0m\n\u001b[0;32m--> 611\u001b[0;31m         \u001b[0;32mraise\u001b[0m \u001b[0mValueError\u001b[0m\u001b[0;34m(\u001b[0m\u001b[0;34m\"Length of values does not match length of index\"\u001b[0m\u001b[0;34m)\u001b[0m\u001b[0;34m\u001b[0m\u001b[0;34m\u001b[0m\u001b[0m\n\u001b[0m\u001b[1;32m    612\u001b[0m \u001b[0;34m\u001b[0m\u001b[0m\n\u001b[1;32m    613\u001b[0m     \u001b[0;32mif\u001b[0m \u001b[0misinstance\u001b[0m\u001b[0;34m(\u001b[0m\u001b[0mdata\u001b[0m\u001b[0;34m,\u001b[0m \u001b[0mABCIndexClass\u001b[0m\u001b[0;34m)\u001b[0m \u001b[0;32mand\u001b[0m \u001b[0;32mnot\u001b[0m \u001b[0mcopy\u001b[0m\u001b[0;34m:\u001b[0m\u001b[0;34m\u001b[0m\u001b[0;34m\u001b[0m\u001b[0m\n",
      "\u001b[0;31mValueError\u001b[0m: Length of values does not match length of index"
     ]
    }
   ],
   "source": [
    "times = [30, 60, 90, 1800]\n",
    "filename = 'sd_positions0'\n",
    "df = beta_df(positions[0], times, drop_lstl, filename)"
   ]
  },
  {
   "cell_type": "markdown",
   "metadata": {},
   "source": [
    "#### 3 - Generating data for recently used space feature"
   ]
  },
  {
   "cell_type": "code",
   "execution_count": null,
   "metadata": {},
   "outputs": [],
   "source": []
  }
 ],
 "metadata": {
  "kernelspec": {
   "display_name": "Python 3",
   "language": "python",
   "name": "python3"
  },
  "language_info": {
   "codemirror_mode": {
    "name": "ipython",
    "version": 3
   },
   "file_extension": ".py",
   "mimetype": "text/x-python",
   "name": "python",
   "nbconvert_exporter": "python",
   "pygments_lexer": "ipython3",
   "version": "3.6.10"
  }
 },
 "nbformat": 4,
 "nbformat_minor": 4
}
