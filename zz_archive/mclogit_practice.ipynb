{
 "cells": [
  {
   "cell_type": "code",
   "execution_count": 50,
   "metadata": {},
   "outputs": [
    {
     "name": "stderr",
     "output_type": "stream",
     "text": [
      "also installing the dependency ‘memisc’\n",
      "\n",
      "Updating HTML index of packages in '.Library'\n",
      "Making 'packages.html' ... done\n"
     ]
    }
   ],
   "source": [
    "install.packages(\"mclogit\")"
   ]
  },
  {
   "cell_type": "code",
   "execution_count": 51,
   "metadata": {},
   "outputs": [
    {
     "name": "stderr",
     "output_type": "stream",
     "text": [
      "Loading required package: Matrix\n"
     ]
    }
   ],
   "source": [
    "library(mclogit)"
   ]
  },
  {
   "cell_type": "code",
   "execution_count": 62,
   "metadata": {},
   "outputs": [
    {
     "name": "stdout",
     "output_type": "stream",
     "text": [
      "  grass water trees label frame\n",
      "1     2     5     8     1     1\n",
      "2    10     2     1     1     2\n",
      "3     2     4     1     0     1\n",
      "4     3     2     2     0     2\n",
      "5    10     7     1     0     1\n",
      "6     9     5     4     0     2\n",
      "7     6     5     3     0     1\n",
      "8     4     4     3     0     2\n"
     ]
    }
   ],
   "source": [
    "mydata = read.csv(\"buffalo.csv\")\n",
    "print(mydata)"
   ]
  },
  {
   "cell_type": "code",
   "execution_count": 155,
   "metadata": {},
   "outputs": [
    {
     "name": "stdout",
     "output_type": "stream",
     "text": [
      "\n",
      "Iteration 1 - Deviance = 0.9991882\n",
      "Iteration 2 - Deviance = 0.3608208\n",
      "Iteration 3 - Deviance = 0.135204\n",
      "Iteration 4 - Deviance = 0.05049028\n",
      "Iteration 5 - Deviance = 0.01873359\n",
      "Iteration 6 - Deviance = 0.006921847\n",
      "Iteration 7 - Deviance = 0.002551872\n",
      "Iteration 8 - Deviance = 0.0009397564\n",
      "Iteration 9 - Deviance = 0.00034589\n",
      "Iteration 10 - Deviance = 0.0001272764\n",
      "Iteration 11 - Deviance = 4.682777e-05\n",
      "Iteration 12 - Deviance = 1.722793e-05\n",
      "Iteration 13 - Deviance = 6.33797e-06\n",
      "Iteration 14 - Deviance = 2.331639e-06\n",
      "Iteration 15 - Deviance = 8.577672e-07\n",
      "Iteration 16 - Deviance = 3.155559e-07\n",
      "Iteration 17 - Deviance = 1.160867e-07\n",
      "Iteration 18 - Deviance = 4.270594e-08\n",
      "Iteration 19 - Deviance = 1.571064e-08\n",
      "Iteration 20 - Deviance = 5.779623e-09\n",
      "Iteration 21 - Deviance = 2.126204e-09\n",
      "Iteration 22 - Deviance = 7.821872e-10\n",
      "Iteration 23 - Deviance = 2.877505e-10\n",
      "converged\n"
     ]
    },
    {
     "data": {
      "text/html": [
       "<dl class=dl-horizontal>\n",
       "\t<dt>grass</dt>\n",
       "\t\t<dd>4.63177548366006</dd>\n",
       "\t<dt>water</dt>\n",
       "\t\t<dd>-14.8806084256672</dd>\n",
       "\t<dt>trees</dt>\n",
       "\t\t<dd>8.36313049369842</dd>\n",
       "</dl>\n"
      ],
      "text/latex": [
       "\\begin{description*}\n",
       "\\item[grass] 4.63177548366006\n",
       "\\item[water] -14.8806084256672\n",
       "\\item[trees] 8.36313049369842\n",
       "\\end{description*}\n"
      ],
      "text/markdown": [
       "grass\n",
       ":   4.63177548366006water\n",
       ":   -14.8806084256672trees\n",
       ":   8.36313049369842\n",
       "\n"
      ],
      "text/plain": [
       "     grass      water      trees \n",
       "  4.631775 -14.880608   8.363130 "
      ]
     },
     "metadata": {},
     "output_type": "display_data"
    }
   ],
   "source": [
    "test <- mclogit(cbind(mydata$label,mydata$frame) ~ grass + water + trees,data=mydata)\n",
    "coef(test)"
   ]
  },
  {
   "cell_type": "markdown",
   "metadata": {},
   "source": [
    "### Plug betas back into probability function\n",
    "    - should get 1 or value close to 1 for chosen steps (y23 and y31)\n",
    "    - should get 0 for all alternative steps"
   ]
  },
  {
   "cell_type": "code",
   "execution_count": 150,
   "metadata": {},
   "outputs": [
    {
     "name": "stdout",
     "output_type": "stream",
     "text": [
      "     [,1]\n",
      "[1,]    1\n",
      "          [,1]\n",
      "[1,] 0.9999696\n"
     ]
    }
   ],
   "source": [
    "betas <- c(4.63, -14.88, 8.36)\n",
    "betas_paper <- c(1.9, -6.2, 3.6)\n",
    "\n",
    "y23 <- c(2, 5, 8)\n",
    "y21 <- c(2, 4, 1)\n",
    "y22 <- c(10, 7, 1)\n",
    "y24 <- c(6, 5, 3)\n",
    "\n",
    "y31 <- c(10, 2, 1)\n",
    "y32 <- c(3, 2, 2)\n",
    "y33 <- c(9, 5, 4)\n",
    "y34 <- c(4, 4, 3)\n",
    "\n",
    "step1 <- exp(betas%*%y23)/sum(exp(betas%*%y21), exp(betas%*%y22), exp(betas%*%y23), exp(betas%*%y24))\n",
    "step1_paper <- exp(betas_paper%*%y23)/sum(exp(betas_paper%*%y21), exp(betas_paper%*%y22), exp(betas_paper%*%y23), exp(betas_paper%*%y24))\n",
    "\n",
    "print(step1)\n",
    "print(step1_paper)\n"
   ]
  },
  {
   "cell_type": "code",
   "execution_count": 151,
   "metadata": {},
   "outputs": [
    {
     "name": "stdout",
     "output_type": "stream",
     "text": [
      "             [,1]\n",
      "[1,] 1.115293e-19\n",
      "             [,1]\n",
      "[1,] 5.602626e-09\n",
      "             [,1]\n",
      "[1,] 5.581498e-23\n",
      "             [,1]\n",
      "[1,] 1.869779e-10\n",
      "             [,1]\n",
      "[1,] 7.755762e-11\n",
      "             [,1]\n",
      "[1,] 3.043156e-05\n"
     ]
    }
   ],
   "source": [
    "step1_alt1 <- exp(betas%*%y21)/sum(exp(betas%*%y23), exp(betas%*%y21), exp(betas%*%y22), exp(betas%*%y24))\n",
    "step1_paper_alt1 <- exp(betas_paper%*%y21)/sum(exp(betas_paper%*%y21), exp(betas_paper%*%y23), exp(betas_paper%*%y22), exp(betas_paper%*%y24))\n",
    "print(step1_alt1)\n",
    "print(step1_paper_alt1)\n",
    "\n",
    "step1_alt2 <- exp(betas%*%y22)/sum(exp(betas%*%y23), exp(betas%*%y22), exp(betas%*%y21), exp(betas%*%y24))\n",
    "step1_paper_alt2 <- exp(betas_paper%*%y22)/sum(exp(betas_paper%*%y23), exp(betas_paper%*%y22), exp(betas_paper%*%y21), exp(betas_paper%*%y24))\n",
    "print(step1_alt2)\n",
    "print(step1_paper_alt2)\n",
    "\n",
    "step1_alt3 <- exp(betas%*%y24)/sum(exp(betas%*%y23), exp(betas%*%y22), exp(betas%*%y24), exp(betas%*%y21))\n",
    "step1_paper_alt3 <- exp(betas_paper%*%y24)/sum(exp(betas_paper%*%y23), exp(betas_paper%*%y22), exp(betas_paper%*%y24), exp(betas_paper%*%y21))\n",
    "print(step1_alt3)\n",
    "print(step1_paper_alt3)"
   ]
  },
  {
   "cell_type": "markdown",
   "metadata": {},
   "source": [
    "### Calculate log-likelihood difference"
   ]
  },
  {
   "cell_type": "code",
   "execution_count": 137,
   "metadata": {},
   "outputs": [],
   "source": [
    "B <- as.vector(c(4.63, -14.88, 8.36))\n",
    "Bnull <- as.vector(c(0,0,0))\n",
    "used <- matrix(c(2,10,5,2,8,1), nrow=2, ncol=3)\n",
    "alt1 <- matrix(c(2,3,4,2,1,2), nrow=2, ncol=3)\n",
    "alt2 <- matrix(c(10,9,7,5,1,4), nrow=2, ncol=3)\n",
    "alt3 <- matrix(c(6,4,5,4,3,3), nrow=2, ncol=3)"
   ]
  },
  {
   "cell_type": "code",
   "execution_count": 148,
   "metadata": {},
   "outputs": [],
   "source": [
    "nLL <- function(B) {\n",
    "    func <- function(x) {\n",
    "    return (-log(exp(B%*%used[x,]) + exp(B%*%alt1[x,]) + exp(B%*%alt2[x,]) + exp(B%*%alt3[x,])))\n",
    "    }\n",
    "\n",
    "LL <- sum(apply(used, 1, function(x)B%*%x)) + sum(sapply(seq(length =nrow(used)), func))\n",
    "    return(-LL)\n",
    "}\n",
    "\n",
    "neglogliks <- vector()\n",
    "neglogliks <- c(neglogliks, nLL(Bnull) - nLL(B))"
   ]
  },
  {
   "cell_type": "code",
   "execution_count": 149,
   "metadata": {},
   "outputs": [
    {
     "name": "stdout",
     "output_type": "stream",
     "text": [
      "[1] 2.772589\n"
     ]
    }
   ],
   "source": [
    "print(neglogliks)"
   ]
  },
  {
   "cell_type": "code",
   "execution_count": null,
   "metadata": {},
   "outputs": [],
   "source": []
  }
 ],
 "metadata": {
  "kernelspec": {
   "display_name": "R",
   "language": "R",
   "name": "ir"
  },
  "language_info": {
   "codemirror_mode": "r",
   "file_extension": ".r",
   "mimetype": "text/x-r-source",
   "name": "R",
   "pygments_lexer": "r",
   "version": "3.6.1"
  }
 },
 "nbformat": 4,
 "nbformat_minor": 4
}
